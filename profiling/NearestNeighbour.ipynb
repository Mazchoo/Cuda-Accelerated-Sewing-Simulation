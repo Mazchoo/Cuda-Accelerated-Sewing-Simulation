{
 "cells": [
  {
   "cell_type": "code",
   "execution_count": 1,
   "id": "c5eb75cb-6773-47fb-8077-813982dd9d95",
   "metadata": {},
   "outputs": [],
   "source": [
    "import numpy as np\n",
    "import torch"
   ]
  },
  {
   "cell_type": "code",
   "execution_count": 2,
   "id": "c9f217d7-c23c-4c71-96c0-eefa68d33834",
   "metadata": {},
   "outputs": [
    {
     "data": {
      "text/plain": [
       "True"
      ]
     },
     "execution_count": 2,
     "metadata": {},
     "output_type": "execute_result"
    }
   ],
   "source": [
    "torch.cuda.is_available()"
   ]
  },
  {
   "cell_type": "code",
   "execution_count": 3,
   "id": "a1220b24-cbaf-46cd-b561-044142d6a699",
   "metadata": {},
   "outputs": [],
   "source": [
    "points = np.random.random((1024**2, 3)).astype(np.float32)\n",
    "query = np.random.random(3).astype(np.float32)"
   ]
  },
  {
   "cell_type": "code",
   "execution_count": 4,
   "id": "dbc18d89-6b24-41ec-889c-8abc813a3c6f",
   "metadata": {},
   "outputs": [],
   "source": [
    "def numpy_implementation(points: np.ndarray, query_point: np.ndarray) -> np.ndarray:\n",
    "    \"\"\" Return nearest neighbour point \"\"\"\n",
    "    return points[np.sum(np.square(points - query_point), axis=1).argmin()]"
   ]
  },
  {
   "cell_type": "code",
   "execution_count": 5,
   "id": "f576945d-5146-41ca-9fd1-3e1eb15ddf7e",
   "metadata": {},
   "outputs": [
    {
     "data": {
      "text/plain": [
       "array([0.43225968, 0.02949279, 0.6148025 ], dtype=float32)"
      ]
     },
     "execution_count": 5,
     "metadata": {},
     "output_type": "execute_result"
    }
   ],
   "source": [
    "numpy_implementation(points, query)"
   ]
  },
  {
   "cell_type": "code",
   "execution_count": 17,
   "id": "15b58442-0ec9-4262-b24a-5910138d3309",
   "metadata": {},
   "outputs": [
    {
     "name": "stdout",
     "output_type": "stream",
     "text": [
      "125 ms ± 12.5 ms per loop (mean ± std. dev. of 7 runs, 10 loops each)\n"
     ]
    }
   ],
   "source": [
    "%timeit numpy_implementation(points, query)"
   ]
  },
  {
   "cell_type": "code",
   "execution_count": 7,
   "id": "d310366d-1279-469a-84e5-abdb0c9c7c19",
   "metadata": {},
   "outputs": [],
   "source": [
    "points_torch = torch.tensor(points).cuda()\n",
    "query_torch = torch.tensor(query).cuda()"
   ]
  },
  {
   "cell_type": "code",
   "execution_count": 8,
   "id": "f97df0f6-a4f6-416c-83ed-d615f88f7217",
   "metadata": {},
   "outputs": [
    {
     "name": "stdout",
     "output_type": "stream",
     "text": [
      "9.27 ms ± 2.99 ms per loop (mean ± std. dev. of 7 runs, 100 loops each)\n"
     ]
    }
   ],
   "source": [
    "%timeit points_torch = torch.tensor(points).cuda()"
   ]
  },
  {
   "cell_type": "code",
   "execution_count": 9,
   "id": "afddbdc3-217e-4e8b-96f0-a29c75f90d18",
   "metadata": {},
   "outputs": [],
   "source": [
    "def torch_implementation(points: torch.Tensor, query: torch.Tensor) -> torch.Tensor:\n",
    "    return points[torch.min(((points - query) ** 2).sum(dim=1), dim=0)[1]].cpu()"
   ]
  },
  {
   "cell_type": "code",
   "execution_count": 10,
   "id": "a3787b74-10a1-4adc-819d-d09f107bc26b",
   "metadata": {},
   "outputs": [
    {
     "data": {
      "text/plain": [
       "tensor([0.4323, 0.0295, 0.6148])"
      ]
     },
     "execution_count": 10,
     "metadata": {},
     "output_type": "execute_result"
    }
   ],
   "source": [
    "torch_implementation(points_torch, query_torch)"
   ]
  },
  {
   "cell_type": "code",
   "execution_count": 11,
   "id": "512927cf-5f8d-4c1b-bc5c-82d371f3669c",
   "metadata": {},
   "outputs": [
    {
     "name": "stdout",
     "output_type": "stream",
     "text": [
      "1.02 ms ± 412 µs per loop (mean ± std. dev. of 7 runs, 100 loops each)\n"
     ]
    }
   ],
   "source": [
    "%timeit torch_implementation(points_torch, query_torch)"
   ]
  }
 ],
 "metadata": {
  "kernelspec": {
   "display_name": "Python 3 (ipykernel)",
   "language": "python",
   "name": "python3"
  },
  "language_info": {
   "codemirror_mode": {
    "name": "ipython",
    "version": 3
   },
   "file_extension": ".py",
   "mimetype": "text/x-python",
   "name": "python",
   "nbconvert_exporter": "python",
   "pygments_lexer": "ipython3",
   "version": "3.11.5"
  }
 },
 "nbformat": 4,
 "nbformat_minor": 5
}
