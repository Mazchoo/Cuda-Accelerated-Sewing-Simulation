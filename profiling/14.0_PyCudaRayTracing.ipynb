{
 "cells": [
  {
   "cell_type": "code",
   "execution_count": 1,
   "id": "050d9dc6-d97e-4400-8355-53c6dc4d0b5b",
   "metadata": {},
   "outputs": [],
   "source": [
    "import numpy as np\n",
    "from time import perf_counter\n",
    "import pycuda.autoinit\n",
    "import pycuda.driver as cuda\n",
    "from pycuda.compiler import SourceModule"
   ]
  },
  {
   "cell_type": "code",
   "execution_count": 2,
   "id": "6785208d-3c50-4748-a57f-5354d7669333",
   "metadata": {},
   "outputs": [
    {
     "name": "stdout",
     "output_type": "stream",
     "text": [
      "usage: cl [ option... ] filename... [ /link linkoption... ]\n"
     ]
    },
    {
     "name": "stderr",
     "output_type": "stream",
     "text": [
      "Microsoft (R) C/C++ Optimizing Compiler Version 19.43.34810 for x64\n",
      "Copyright (C) Microsoft Corporation.  All rights reserved.\n",
      "\n"
     ]
    }
   ],
   "source": [
    "!cl"
   ]
  },
  {
   "cell_type": "code",
   "execution_count": 3,
   "id": "55cfbeca-e46c-4a12-b452-8811d2172f2c",
   "metadata": {},
   "outputs": [],
   "source": [
    "def load_numpy(filename: str) -> np.ndarray:\n",
    "    return np.load(f'./numpy/{filename}')"
   ]
  },
  {
   "cell_type": "code",
   "execution_count": 4,
   "id": "de3795a1-f78c-4b9b-89ea-a8fb9647b3db",
   "metadata": {},
   "outputs": [],
   "source": [
    "mod = SourceModule(\"\"\"\n",
    "__device__ __inline__ float3 cross_product(float3 a, float3 b) {\n",
    "    return make_float3(\n",
    "        a.y * b.z - a.z * b.y,\n",
    "        a.z * b.x - a.x * b.z,\n",
    "        a.x * b.y - a.y * b.x\n",
    "    );\n",
    "}\n",
    "\n",
    "__device__ __inline__ float dot_product(float3 a, float3 b) {\n",
    "    return a.x * b.x + a.y * b.y + a.z * b.z;\n",
    "}\n",
    "\n",
    "__device__ __inline__ float3 subtract(float3 a, float3 b) {\n",
    "    return make_float3(a.x - b.x, a.y - b.y, a.z - b.z);\n",
    "}\n",
    "\n",
    "__device__ __inline__ float3 add(float3 a, float3 b) {\n",
    "    return make_float3(a.x + b.x, a.y + b.y, a.z + b.z);\n",
    "}\n",
    "\n",
    "\n",
    "__device__ __inline__ float square_dist(float3 a, float3 b) {\n",
    "    return (a.x - b.x) * (a.x - b.x) + (a.y - b.y) * (a.y - b.y) + (a.z - b.z) * (a.z - b.z);\n",
    "}\n",
    "\n",
    "__device__ __inline__ float clamp(float value) {\n",
    "    return max(0.0f, min(value, 1.0f));\n",
    "}\n",
    "\n",
    "__device__ __inline__ float3 scalar_multiply(float3 p, float scalar) {\n",
    "    return make_float3(p.x * scalar, p.y * scalar, p.z * scalar);\n",
    "}\n",
    "\n",
    "__device__ __inline__ float3 get_v0(float *triangles, int idx) {\n",
    "    return make_float3(\n",
    "        triangles[idx * 9],\n",
    "        triangles[idx * 9 + 1],\n",
    "        triangles[idx * 9 + 2]\n",
    "    );\n",
    "}\n",
    "\n",
    "__device__ __inline__ float3 get_edge1(float *triangles, int idx) {\n",
    "    return make_float3(\n",
    "        triangles[idx * 9 + 3],\n",
    "        triangles[idx * 9 + 4],\n",
    "        triangles[idx * 9 + 5]\n",
    "    );\n",
    "}\n",
    "\n",
    "__device__ __inline__ float3 get_edge2(float *triangles, int idx) {\n",
    "    return make_float3(\n",
    "        triangles[idx * 9 + 6],\n",
    "        triangles[idx * 9 + 7],\n",
    "        triangles[idx * 9 + 8]\n",
    "    );\n",
    "}\n",
    "\n",
    "\n",
    "__device__ int ray_intersects_triangle(float3& query, const float3& dir,\n",
    "                                       float3 v0, float3 edge1, float3 edge2) {\n",
    "    const float EPSILON = 1e-7f;\n",
    "    float3 b;\n",
    "    float v;\n",
    "\n",
    "    float3 a = cross_product(dir, edge2);\n",
    "    float det = dot_product(edge1, a);\n",
    "    if (fabsf(det) < EPSILON)\n",
    "        return 0;\n",
    "\n",
    "    float3 c = subtract(query, v0);\n",
    "    float u = dot_product(a, c);\n",
    "    if (det > EPSILON) {\n",
    "        if (u < 0 || u > det)\n",
    "            return 0;\n",
    "\n",
    "        b = cross_product(c, edge1);\n",
    "        v = dot_product(b, dir);\n",
    "        if (v < 0 || u + v > det)\n",
    "            return 0;\n",
    "    } else {\n",
    "        if (u > 0 || u < det)\n",
    "            return 0;\n",
    "\n",
    "        b = cross_product(c, edge1);\n",
    "        v = dot_product(b, dir);\n",
    "        if (v > 0 || u + v < det)\n",
    "            return 0;\n",
    "    }\n",
    "\n",
    "    float inv_det = 1.0f / det;\n",
    "    float t = inv_det * dot_product(edge2, b);\n",
    "\n",
    "    if (t < EPSILON || t > 1 - EPSILON)\n",
    "        return 0;\n",
    "\n",
    "    return 1;\n",
    "}\n",
    "\n",
    "__device__ float3 closest_point_on_triangle(float3& query,\n",
    "                                            float3 v0, float3 edge1, float3 edge2) {\n",
    "    const float EPSILON = 1e-10f;\n",
    "    float3 q_to_v0 = subtract(query, v0);\n",
    "\n",
    "    float d1 = dot_product(edge1, q_to_v0);\n",
    "    float d2 = dot_product(edge2, q_to_v0);\n",
    "    float d3 = dot_product(edge1, edge1);\n",
    "    float d4 = dot_product(edge1, edge2);\n",
    "    float d5 = dot_product(edge2, edge2);\n",
    "\n",
    "    float denom = d3 * d5 - d4 * d4 + EPSILON;\n",
    "    float v_clamped = clamp((d5 * d1 - d4 * d2) / denom);\n",
    "    float w_clamped = clamp((d3 * d2 - d4 * d1) / denom);\n",
    "    float u_clamped = clamp(1 - v_clamped - w_clamped);\n",
    "\n",
    "    float sum_clamped = u_clamped + v_clamped + w_clamped;\n",
    "    float3 u_vec = scalar_multiply(v0, u_clamped / sum_clamped);\n",
    "    float3 v_vec = scalar_multiply(add(v0, edge1), v_clamped / sum_clamped);\n",
    "    float3 w_vec = scalar_multiply(add(v0, edge2), w_clamped / sum_clamped);\n",
    "\n",
    "    return add(w_vec, add(u_vec, v_vec));\n",
    "}\n",
    "\n",
    "__global__ void point_in_mesh(float *triangles, int num_triangles,\n",
    "                              float *points, int num_points,\n",
    "                              float *normals, float *centers, float *radii) {\n",
    "    int pt_idx = blockIdx.x * blockDim.x + threadIdx.x;\n",
    "    if (pt_idx >= num_points) return;\n",
    "\n",
    "    float3 query = make_float3(\n",
    "        points[pt_idx * 3],\n",
    "        points[pt_idx * 3 + 1],\n",
    "        points[pt_idx * 3 + 2]\n",
    "    );\n",
    "    const float3 ray_dir = make_float3(1.0f, 1.0f, 1.0f);\n",
    "\n",
    "    int hit_count = 0;\n",
    "    for (int tri_idx = 0; tri_idx < num_triangles; ++tri_idx) {\n",
    "        hit_count += ray_intersects_triangle(\n",
    "            query, ray_dir, get_v0(triangles, tri_idx),\n",
    "            get_edge1(triangles, tri_idx), get_edge2(triangles, tri_idx)\n",
    "        );\n",
    "    }\n",
    "\n",
    "    if (hit_count % 2 == 1) {\n",
    "        float closest_distance_sq = 1e20;\n",
    "        int closest_index = 0;\n",
    "\n",
    "        for (int tri_idx = 0; tri_idx < num_triangles; ++tri_idx) {\n",
    "            // Eliminate possibilities with triangle inequality\n",
    "            float dist_to_center = sqrtf(square_dist(\n",
    "                make_float3(\n",
    "                    centers[tri_idx * 3],\n",
    "                    centers[tri_idx * 3 + 1],\n",
    "                    centers[tri_idx * 3 + 2]\n",
    "                ), query));\n",
    "            float radius = radii[tri_idx];\n",
    "            if (closest_distance_sq < dist_to_center - radius) {\n",
    "                continue;\n",
    "            }\n",
    "\n",
    "            // Find closest point on triangle\n",
    "            float3 closest_point = closest_point_on_triangle(\n",
    "                query, get_v0(triangles, tri_idx),\n",
    "                get_edge1(triangles, tri_idx), get_edge2(triangles, tri_idx)\n",
    "            );\n",
    "            float distance = square_dist(closest_point, query);\n",
    "\n",
    "            if (distance < closest_distance_sq) {\n",
    "                closest_index = tri_idx;\n",
    "                closest_distance_sq = distance;\n",
    "            }\n",
    "        }\n",
    "\n",
    "        float3 normal = make_float3(\n",
    "            normals[closest_index * 3],\n",
    "            normals[closest_index * 3 + 1],\n",
    "            normals[closest_index * 3 + 2]\n",
    "        );\n",
    "        float3 adjustment = scalar_multiply(normal, sqrtf(closest_distance_sq));\n",
    "\n",
    "        points[pt_idx * 3] += adjustment.x;\n",
    "        points[pt_idx * 3 + 1] += adjustment.y;\n",
    "        points[pt_idx * 3 + 2] += adjustment.z;\n",
    "    }\n",
    "}\n",
    "\"\"\")"
   ]
  },
  {
   "cell_type": "code",
   "execution_count": 5,
   "id": "b3979619-90c6-4591-aa87-805e90b258b4",
   "metadata": {},
   "outputs": [],
   "source": [
    "vertices = load_numpy('piece_vertices.npy')\n",
    "triangles = load_numpy('triangle_vertices.npy')\n",
    "normals = load_numpy('triangle_normals.npy')"
   ]
  },
  {
   "cell_type": "code",
   "execution_count": 6,
   "id": "1ddf532a-c359-4fe6-9fbb-71ce09478754",
   "metadata": {},
   "outputs": [],
   "source": [
    "point_in_mesh = mod.get_function(\"point_in_mesh\")"
   ]
  },
  {
   "cell_type": "code",
   "execution_count": 7,
   "id": "4d31faaf-f60a-49f9-9422-4a7ef1bd7043",
   "metadata": {},
   "outputs": [],
   "source": [
    "nr_triangles = np.int32(len(triangles))\n",
    "nr_vertices = np.int32(len(vertices))"
   ]
  },
  {
   "cell_type": "code",
   "execution_count": 8,
   "id": "53f522e2-c1c7-46fb-bc97-a9573b4f989b",
   "metadata": {},
   "outputs": [],
   "source": [
    "triangle_centers = (triangles[:, 0] + triangles[:, 1] + triangles[:, 2]) / 3"
   ]
  },
  {
   "cell_type": "code",
   "execution_count": 9,
   "id": "448f3ff3-ab69-4f7b-97b8-cf57e116c4ac",
   "metadata": {},
   "outputs": [],
   "source": [
    "distances_to_center = np.max(\n",
    "    np.linalg.norm(triangles - np.expand_dims(triangle_centers, 1), axis=2),\n",
    "axis=1)"
   ]
  },
  {
   "cell_type": "code",
   "execution_count": 10,
   "id": "05f6fac8-4c7c-4c42-968c-5bd1334313bb",
   "metadata": {},
   "outputs": [],
   "source": [
    "triangles[:, 1] -= triangles[:, 0]\n",
    "triangles[:, 2] -= triangles[:, 0]"
   ]
  },
  {
   "cell_type": "code",
   "execution_count": 11,
   "id": "eb0b569d-b74b-47a6-b314-43a5a23f0cfb",
   "metadata": {},
   "outputs": [],
   "source": [
    "assert vertices.flatten().flags['C_CONTIGUOUS']\n",
    "assert triangles.flatten().flags['C_CONTIGUOUS']\n",
    "assert normals.flatten().flags['C_CONTIGUOUS']\n",
    "assert triangle_centers.flatten().flags['C_CONTIGUOUS']\n",
    "assert distances_to_center.flatten().flags['C_CONTIGUOUS']\n",
    "assert len(normals) == len(triangles)"
   ]
  },
  {
   "cell_type": "code",
   "execution_count": 12,
   "id": "067c5832-7029-4582-92a9-418abd270098",
   "metadata": {},
   "outputs": [],
   "source": [
    "triangles_gpu = cuda.mem_alloc(triangles.nbytes)\n",
    "vertices_gpu = cuda.mem_alloc(vertices.nbytes)\n",
    "normals_gpu = cuda.mem_alloc(normals.nbytes)\n",
    "centers_gpu = cuda.mem_alloc(triangle_centers.nbytes)\n",
    "radii_gpu = cuda.mem_alloc(distances_to_center.nbytes)"
   ]
  },
  {
   "cell_type": "code",
   "execution_count": 13,
   "id": "d914a3ad-bdf4-4cc7-8a85-aa3a3be6ed66",
   "metadata": {},
   "outputs": [],
   "source": [
    "cuda.memcpy_htod(triangles_gpu, triangles.flatten())\n",
    "cuda.memcpy_htod(vertices_gpu, vertices.flatten())\n",
    "cuda.memcpy_htod(normals_gpu, normals.flatten())\n",
    "cuda.memcpy_htod(centers_gpu, triangle_centers.flatten())\n",
    "cuda.memcpy_htod(radii_gpu, distances_to_center.flatten())"
   ]
  },
  {
   "cell_type": "code",
   "execution_count": 14,
   "id": "47ebc64f-b38b-4005-848d-dbec376a967f",
   "metadata": {},
   "outputs": [],
   "source": [
    "threads_per_block = 64\n",
    "blocks = (len(vertices) + threads_per_block - 1) // threads_per_block"
   ]
  },
  {
   "cell_type": "code",
   "execution_count": 15,
   "id": "5b26f91d-4551-44d3-86bf-096fa14d4fe9",
   "metadata": {},
   "outputs": [],
   "source": [
    "def get_points_in_mesh():\n",
    "    point_in_mesh(triangles_gpu, nr_triangles,\n",
    "                  vertices_gpu, nr_vertices,\n",
    "                  normals_gpu, centers_gpu, radii_gpu,\n",
    "                  block=(threads_per_block, 1, 1), grid=(blocks, 1, 1))"
   ]
  },
  {
   "cell_type": "code",
   "execution_count": 16,
   "id": "5c5a49ca-8864-4a03-8b2b-d86dba38ca14",
   "metadata": {},
   "outputs": [
    {
     "name": "stdout",
     "output_type": "stream",
     "text": [
      "Time taken 2.167 ms\n"
     ]
    }
   ],
   "source": [
    "start = perf_counter()\n",
    "get_points_in_mesh()\n",
    "print(f\"Time taken {(perf_counter() - start)*1000:.3f} ms\")"
   ]
  },
  {
   "cell_type": "code",
   "execution_count": 17,
   "id": "ea9f49df-5c32-4839-a70d-ef3e650fb83a",
   "metadata": {},
   "outputs": [],
   "source": [
    "original_vertices = vertices.copy()"
   ]
  },
  {
   "cell_type": "code",
   "execution_count": 18,
   "id": "64c28f03-a729-401e-a14a-7d33f7eb953f",
   "metadata": {},
   "outputs": [],
   "source": [
    "cuda.memcpy_dtoh(vertices, vertices_gpu)"
   ]
  },
  {
   "cell_type": "code",
   "execution_count": 19,
   "id": "be4aee19-a153-4e74-a127-a8e5e336412e",
   "metadata": {},
   "outputs": [
    {
     "data": {
      "text/plain": [
       "(array([1680, 1683, 1741, 1798, 2245, 2298, 2299, 2300, 2301, 2302, 2303,\n",
       "        2345, 2346, 2347, 2348, 2349, 2350, 2351, 2352, 2353, 2354, 2355,\n",
       "        2356, 2357, 2358, 2359, 2360, 2361, 2362, 2406, 2407, 2408, 2456,\n",
       "        2457, 2458, 2459, 2498, 2499, 2501, 2549, 2600, 2609, 2651, 2655,\n",
       "        2690, 2701, 2741, 2742, 2793, 2945], dtype=int64),)"
      ]
     },
     "execution_count": 19,
     "metadata": {},
     "output_type": "execute_result"
    }
   ],
   "source": [
    "np.where(np.any((original_vertices - vertices) != 0., axis=1))"
   ]
  },
  {
   "cell_type": "code",
   "execution_count": 20,
   "id": "2c7af72e-9e6d-4533-8254-0d59411af24e",
   "metadata": {},
   "outputs": [],
   "source": [
    "vertices_changed_mask = np.any((original_vertices - vertices) != 0., axis=1)"
   ]
  },
  {
   "cell_type": "code",
   "execution_count": 21,
   "id": "67bb3e8f-7969-4c27-a1c5-6275f2c65a59",
   "metadata": {},
   "outputs": [
    {
     "data": {
      "text/plain": [
       "50"
      ]
     },
     "execution_count": 21,
     "metadata": {},
     "output_type": "execute_result"
    }
   ],
   "source": [
    "vertices_changed_mask.sum()"
   ]
  },
  {
   "cell_type": "code",
   "execution_count": 22,
   "id": "3daec5e9-97b9-4a11-a48b-372dfd46aa34",
   "metadata": {},
   "outputs": [
    {
     "name": "stdout",
     "output_type": "stream",
     "text": [
      "18.5 µs ± 1.32 µs per loop (mean ± std. dev. of 7 runs, 10,000 loops each)\n"
     ]
    }
   ],
   "source": [
    "%timeit cuda.memcpy_dtoh(vertices, vertices_gpu)"
   ]
  }
 ],
 "metadata": {
  "kernelspec": {
   "display_name": "Python 3 (ipykernel)",
   "language": "python",
   "name": "python3"
  },
  "language_info": {
   "codemirror_mode": {
    "name": "ipython",
    "version": 3
   },
   "file_extension": ".py",
   "mimetype": "text/x-python",
   "name": "python",
   "nbconvert_exporter": "python",
   "pygments_lexer": "ipython3",
   "version": "3.11.5"
  }
 },
 "nbformat": 4,
 "nbformat_minor": 5
}
