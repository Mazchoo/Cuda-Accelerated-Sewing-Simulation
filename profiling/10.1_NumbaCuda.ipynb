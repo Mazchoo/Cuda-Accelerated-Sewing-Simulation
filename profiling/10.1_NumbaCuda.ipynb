{
 "cells": [
  {
   "cell_type": "markdown",
   "id": "0be56157-7084-4eba-be26-3d10c9b35458",
   "metadata": {},
   "source": [
    "Demonstrate a Numba cuda kernel, they are easier to write and debug. It is not using standard cuda, so Nvidia profiling tools won't work."
   ]
  },
  {
   "cell_type": "markdown",
   "id": "802e5c6f-203d-4a78-a3cc-591c9280491d",
   "metadata": {},
   "source": [
    "## Imports"
   ]
  },
  {
   "cell_type": "code",
   "execution_count": 1,
   "id": "822c2def-37f3-46df-aac6-133532f40a38",
   "metadata": {},
   "outputs": [],
   "source": [
    "import numpy as np\n",
    "from numba import cuda, float32, int32"
   ]
  },
  {
   "cell_type": "code",
   "execution_count": 2,
   "id": "136f337b-75f5-4de8-b571-d359d172f1df",
   "metadata": {},
   "outputs": [],
   "source": [
    "from common import load_numpy"
   ]
  },
  {
   "cell_type": "markdown",
   "id": "1ba89d1b-a0fd-4ad9-bbc7-e9e6fb7ad5bd",
   "metadata": {},
   "source": [
    "## Parameters"
   ]
  },
  {
   "cell_type": "code",
   "execution_count": 3,
   "id": "810b305d-5321-461f-af4c-0441837352b3",
   "metadata": {},
   "outputs": [],
   "source": [
    "N = 1024**2\n",
    "BLOCK_SIZE = 512\n",
    "NR_BLOCKS = (N + BLOCK_SIZE - 1) // BLOCK_SIZE"
   ]
  },
  {
   "cell_type": "markdown",
   "id": "8cdc75fb-0d8a-4c61-ba75-c95a23a10b35",
   "metadata": {},
   "source": [
    "## Make numba kernels"
   ]
  },
  {
   "cell_type": "markdown",
   "id": "537f4d0e-ff1b-4d32-9aa8-52d3712e3770",
   "metadata": {},
   "source": [
    "The basic pattern of nearest neightbour here is to calculate the distance in parallel and then all threads overwrite global memory. This access pattern isn't the best since all threads have to write to the same place at once."
   ]
  },
  {
   "cell_type": "code",
   "execution_count": 4,
   "id": "f08cf572-979f-476c-8d20-e673854e2b10",
   "metadata": {},
   "outputs": [],
   "source": [
    "@cuda.jit\n",
    "def find_nearest_point_kernel(points, query, closest_point, min_distance):\n",
    "    i = cuda.grid(1)\n",
    "\n",
    "    if i < points.shape[0]:\n",
    "        dx = points[i, 0] - query[0]\n",
    "        dy = points[i, 1] - query[1]\n",
    "        dz = points[i, 2] - query[2]\n",
    "        dist = dx**2 + dy**2 + dz**2\n",
    "\n",
    "        if dist < min_distance[0]:\n",
    "            min_distance[0] = dist\n",
    "            closest_point[0] = i"
   ]
  },
  {
   "cell_type": "markdown",
   "id": "41c5aa13-d1b5-487d-bdf1-f13e2975e1c6",
   "metadata": {},
   "source": [
    "Printing is allowed in a numba kernel, it a bit easier to debug than pycuda but cannot use the normal python deugger."
   ]
  },
  {
   "cell_type": "code",
   "execution_count": 5,
   "id": "8e9b919d-f069-4b4c-b735-88f67aef155e",
   "metadata": {},
   "outputs": [],
   "source": [
    "def find_nearest_point_gpu(points_device, query_device, closest_point, min_distance):\n",
    "    \"\"\" Find closest point and copy to host using numba kernel \"\"\"\n",
    "    find_nearest_point_kernel[NR_BLOCKS, BLOCK_SIZE](points_device, query_device, closest_point, min_distance)\n",
    "    return closest_point.copy_to_host()[0]"
   ]
  },
  {
   "cell_type": "markdown",
   "id": "2f1cb733-5cf0-4f93-b9a4-fa31d2e04b0c",
   "metadata": {},
   "source": [
    "## Upload query and points to gpu"
   ]
  },
  {
   "cell_type": "markdown",
   "id": "18f088c7-870d-4dbc-b4df-45174f491eb0",
   "metadata": {},
   "source": [
    "Load in points from earlier"
   ]
  },
  {
   "cell_type": "code",
   "execution_count": 6,
   "id": "677fd267-d89c-40ab-b941-bc4269c70681",
   "metadata": {},
   "outputs": [],
   "source": [
    "points = load_numpy(\"nearest_neighbour_points.npy\")\n",
    "query = load_numpy(\"nearest_neighbour_query.npy\")\n",
    "min_distance = np.array([1e20], dtype=np.float32)"
   ]
  },
  {
   "cell_type": "markdown",
   "id": "1ede4f53-a0e6-444b-8f08-444d1aa945c6",
   "metadata": {},
   "source": [
    "Copy all arrays to device"
   ]
  },
  {
   "cell_type": "code",
   "execution_count": 7,
   "id": "773d4356-0f0d-484a-addb-306edc7d4248",
   "metadata": {},
   "outputs": [],
   "source": [
    "points_device = cuda.to_device(points)\n",
    "query_device = cuda.to_device(query)\n",
    "min_distance_device = cuda.to_device(min_distance)\n",
    "closest_point_device = cuda.device_array(1, dtype=np.int32)"
   ]
  },
  {
   "cell_type": "markdown",
   "id": "4bcd81c1-f06a-41db-a60e-70ca643491a0",
   "metadata": {},
   "source": [
    "Run the operation once"
   ]
  },
  {
   "cell_type": "code",
   "execution_count": 10,
   "id": "b2dea4c0-f1d8-49eb-8f9c-af980e521adb",
   "metadata": {},
   "outputs": [
    {
     "name": "stdout",
     "output_type": "stream",
     "text": [
      "Nearest point: [0.72436523 0.10307071 0.2642327 ]\n"
     ]
    }
   ],
   "source": [
    "nearest_idx = find_nearest_point_gpu(points_device, query_device, closest_point_device, min_distance_device)\n",
    "print(\"Nearest point:\", points[nearest_idx])"
   ]
  },
  {
   "cell_type": "markdown",
   "id": "de31f832-ec06-4fcc-a1b8-3a4e393a37be",
   "metadata": {},
   "source": [
    "Get a profiling measurment"
   ]
  },
  {
   "cell_type": "code",
   "execution_count": 9,
   "id": "ff713698-55c0-444f-b139-064fde73a60d",
   "metadata": {},
   "outputs": [
    {
     "name": "stdout",
     "output_type": "stream",
     "text": [
      "421 µs ± 17.3 µs per loop (mean ± std. dev. of 7 runs, 1,000 loops each)\n"
     ]
    }
   ],
   "source": [
    "%timeit points[find_nearest_point_gpu(points_device, query_device, closest_point_device, min_distance_device)]"
   ]
  }
 ],
 "metadata": {
  "kernelspec": {
   "display_name": "Python 3 (ipykernel)",
   "language": "python",
   "name": "python3"
  },
  "language_info": {
   "codemirror_mode": {
    "name": "ipython",
    "version": 3
   },
   "file_extension": ".py",
   "mimetype": "text/x-python",
   "name": "python",
   "nbconvert_exporter": "python",
   "pygments_lexer": "ipython3",
   "version": "3.11.5"
  }
 },
 "nbformat": 4,
 "nbformat_minor": 5
}
