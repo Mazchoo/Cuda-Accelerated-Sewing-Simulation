{
 "cells": [
  {
   "cell_type": "code",
   "execution_count": 1,
   "id": "7633ffaa-e493-44ce-8627-29c19b3de04e",
   "metadata": {},
   "outputs": [],
   "source": [
    "import torch\n",
    "import numpy as np"
   ]
  },
  {
   "cell_type": "code",
   "execution_count": 2,
   "id": "7a228b2e-3f2a-4421-8b60-0d79d699dfea",
   "metadata": {},
   "outputs": [
    {
     "data": {
      "text/plain": [
       "True"
      ]
     },
     "execution_count": 2,
     "metadata": {},
     "output_type": "execute_result"
    }
   ],
   "source": [
    "torch.cuda.is_available()"
   ]
  },
  {
   "cell_type": "code",
   "execution_count": 3,
   "id": "a4b2a65a-4e07-46fb-a62d-69ad586eb212",
   "metadata": {},
   "outputs": [],
   "source": [
    "def closest_point_on_triangle(p, triangle):\n",
    "    \"\"\"\n",
    "        p: (N, 3) query points\n",
    "        triangle: (N, 3, 3) triangle vertices\n",
    "        Returns: (N, 3) closest points on each triangle\n",
    "    \"\"\"\n",
    "    ab = triangle[:, 1] - triangle[:, 0]\n",
    "    ac = triangle[:, 2] - triangle[:, 0]\n",
    "    ap = p - triangle[:, 0]\n",
    "\n",
    "    d1 = torch.sum(ab * ap, dim=1, keepdim=True)\n",
    "    d2 = torch.sum(ac * ap, dim=1, keepdim=True)\n",
    "    d3 = torch.sum(ab * ab, dim=1, keepdim=True)\n",
    "    d4 = torch.sum(ab * ac, dim=1, keepdim=True)\n",
    "    d5 = torch.sum(ac * ac, dim=1, keepdim=True)\n",
    "\n",
    "    denom = d3 * d5 - d4 * d4\n",
    "    v = (d5 * d1 - d4 * d2) / (denom + 1e-10)\n",
    "    w = (d3 * d2 - d4 * d1) / (denom + 1e-10)\n",
    "    u = 1 - v - w\n",
    "\n",
    "    v_clamped = torch.clamp(v, 0, 1)\n",
    "    w_clamped = torch.clamp(w, 0, 1)\n",
    "    u_clamped = torch.clamp(1 - v_clamped - w_clamped, 0, 1)\n",
    "\n",
    "    sum_clamped = u_clamped + v_clamped + w_clamped\n",
    "    u = u_clamped / sum_clamped\n",
    "    v = v_clamped / sum_clamped\n",
    "    w = w_clamped / sum_clamped\n",
    "\n",
    "    return triangle[:, 0] * u + triangle[:, 1] * v + triangle[:, 2] * w"
   ]
  },
  {
   "cell_type": "code",
   "execution_count": 4,
   "id": "90788996-e585-4dc6-8562-94279354cd94",
   "metadata": {},
   "outputs": [],
   "source": [
    "query_point = torch.tensor([[0.5, 0.5, 0.5]], dtype=torch.float32)"
   ]
  },
  {
   "cell_type": "code",
   "execution_count": 5,
   "id": "18004948-e463-4ad6-b9aa-c178948e1219",
   "metadata": {},
   "outputs": [],
   "source": [
    "triangle = torch.tensor([[[1, 0, 0], [0, 1, 0], [0, 0, 1]]], dtype=torch.float32)"
   ]
  },
  {
   "cell_type": "code",
   "execution_count": 6,
   "id": "4b1c151b-ca80-4f44-aeb1-c65ace02cb68",
   "metadata": {},
   "outputs": [
    {
     "data": {
      "text/plain": [
       "tensor([[0.3333, 0.3333, 0.3333]])"
      ]
     },
     "execution_count": 6,
     "metadata": {},
     "output_type": "execute_result"
    }
   ],
   "source": [
    "closest_point_on_triangle(query_point, triangle)"
   ]
  },
  {
   "cell_type": "code",
   "execution_count": 7,
   "id": "490d0bd6-b373-4839-a043-2fab93166e30",
   "metadata": {},
   "outputs": [],
   "source": [
    "def test_closest_point_on_triangle():\n",
    "    triangle = torch.tensor([[[0, 0, 0], [1, 0, 0], [0, 1, 0]]], dtype=torch.float32)\n",
    "    triangles = triangle.repeat(6, 1, 1)\n",
    "\n",
    "    # Test points\n",
    "    test_points = torch.tensor([\n",
    "        [0.25, 0.25, 0.0],   # inside triangle\n",
    "        [-1.0, -1.0, 0.0],   # closest to vertex A\n",
    "        [0.5, -0.5, 0.0],    # closest to edge AB\n",
    "        [-0.5, 0.5, 0.0],    # closest to edge AC\n",
    "        [0.5, 0.5, 0.0],     # closest to edge BC\n",
    "        [0.25, 0.25, 1.0],   # above triangle, project to face\n",
    "    ])\n",
    "\n",
    "    expected = torch.tensor([\n",
    "        [0.25, 0.25, 0.0],  # same (inside)\n",
    "        [0.0, 0.0, 0.0],    # vertex A\n",
    "        [0.5, 0.0, 0.0],    # projected to AB\n",
    "        [0.0, 0.5, 0.0],    # projected to AC\n",
    "        [0.5, 0.5, 0.0],    # projected to BC\n",
    "        [0.25, 0.25, 0.0],  # projected to face\n",
    "    ])\n",
    "\n",
    "    n = len(test_points)\n",
    "    output = closest_point_on_triangle(test_points, triangles)\n",
    "\n",
    "    # Compare outputs\n",
    "    if not torch.allclose(output, expected, atol=1e-5):\n",
    "        print(\"❌ Test failed\")\n",
    "        print(\"Expected:\\n\", expected)\n",
    "        print(\"Got:\\n\", output)\n",
    "    else:\n",
    "        print(\"✅ Test passed\")"
   ]
  },
  {
   "cell_type": "code",
   "execution_count": 8,
   "id": "41eb2e55-457e-4340-9a3f-720183212e98",
   "metadata": {},
   "outputs": [
    {
     "name": "stdout",
     "output_type": "stream",
     "text": [
      "✅ Test passed\n"
     ]
    }
   ],
   "source": [
    "test_closest_point_on_triangle()"
   ]
  },
  {
   "cell_type": "markdown",
   "id": "fbc2b968-696e-4af0-9c42-351df22d7fb7",
   "metadata": {},
   "source": [
    "## Profile using real triangle data"
   ]
  },
  {
   "cell_type": "code",
   "execution_count": 9,
   "id": "1292dfce-1c03-4887-a8fa-d7835b8dc184",
   "metadata": {},
   "outputs": [],
   "source": [
    "def load_numpy(filename: str) -> np.ndarray:\n",
    "    return np.load(f'./numpy/{filename}')"
   ]
  },
  {
   "cell_type": "code",
   "execution_count": 10,
   "id": "5f3aa2a1-2b56-4a58-a2e2-bd19ce1532d9",
   "metadata": {},
   "outputs": [],
   "source": [
    "vertices = torch.tensor(load_numpy('piece_vertices.npy')).cuda()"
   ]
  },
  {
   "cell_type": "code",
   "execution_count": 11,
   "id": "2b0d6318-bf02-4090-b387-8d627b262166",
   "metadata": {},
   "outputs": [],
   "source": [
    "triangles = torch.tensor(load_numpy('triangle_vertices.npy')).cuda()"
   ]
  },
  {
   "cell_type": "code",
   "execution_count": 12,
   "id": "76742fdc-62b0-4401-b24b-bd23497adbf4",
   "metadata": {},
   "outputs": [],
   "source": [
    "normals = torch.tensor(load_numpy('triangle_normals.npy')).cuda()"
   ]
  },
  {
   "cell_type": "code",
   "execution_count": 13,
   "id": "7e831fcd-3eee-428d-b16f-acad262bf09f",
   "metadata": {},
   "outputs": [],
   "source": [
    "repeat_triangles = triangles.repeat(3205, 1, 1)"
   ]
  },
  {
   "cell_type": "code",
   "execution_count": 14,
   "id": "380ccb98-4e50-49b1-a350-f01d6635dddb",
   "metadata": {},
   "outputs": [
    {
     "name": "stdout",
     "output_type": "stream",
     "text": [
      "1.37 ms ± 13.9 µs per loop (mean ± std. dev. of 7 runs, 10,000 loops each)\n"
     ]
    }
   ],
   "source": [
    "%timeit triangles.repeat(3205, 1, 1)"
   ]
  },
  {
   "cell_type": "code",
   "execution_count": 15,
   "id": "2c1c30d9-6768-4f72-a034-581158705600",
   "metadata": {},
   "outputs": [],
   "source": [
    "repeat_vertices = vertices.repeat_interleave(1968, dim=0)"
   ]
  },
  {
   "cell_type": "code",
   "execution_count": 16,
   "id": "47d63b5b-83ae-4094-94de-bb12d15893b4",
   "metadata": {},
   "outputs": [
    {
     "name": "stdout",
     "output_type": "stream",
     "text": [
      "461 µs ± 9.96 µs per loop (mean ± std. dev. of 7 runs, 1,000 loops each)\n"
     ]
    }
   ],
   "source": [
    "%timeit vertices.repeat_interleave(1968, dim=0)"
   ]
  },
  {
   "cell_type": "code",
   "execution_count": 17,
   "id": "15d219a8-374f-468e-bde2-e44c322dd86a",
   "metadata": {},
   "outputs": [
    {
     "name": "stdout",
     "output_type": "stream",
     "text": [
      "6.56 ms ± 1.94 ms per loop (mean ± std. dev. of 7 runs, 1 loop each)\n"
     ]
    }
   ],
   "source": [
    "%timeit closest_point_on_triangle(repeat_vertices, repeat_triangles)"
   ]
  },
  {
   "cell_type": "code",
   "execution_count": 18,
   "id": "a72d5674-0e09-4fff-9ce6-32f996ec1e3e",
   "metadata": {},
   "outputs": [],
   "source": [
    "closest_points = closest_point_on_triangle(repeat_vertices, repeat_triangles)"
   ]
  },
  {
   "cell_type": "code",
   "execution_count": 19,
   "id": "ea049cc2-e96c-44b4-a98f-c66512177466",
   "metadata": {},
   "outputs": [],
   "source": [
    "distances = torch.norm(repeat_vertices - closest_points, dim=1)"
   ]
  },
  {
   "cell_type": "code",
   "execution_count": 20,
   "id": "92cb0b17-a53d-470e-9882-1a875398c2f1",
   "metadata": {},
   "outputs": [
    {
     "name": "stdout",
     "output_type": "stream",
     "text": [
      "2.01 ms ± 4.77 µs per loop (mean ± std. dev. of 7 runs, 1,000 loops each)\n"
     ]
    }
   ],
   "source": [
    "%timeit torch.norm(repeat_vertices - closest_points, dim=1)"
   ]
  },
  {
   "cell_type": "markdown",
   "id": "8ae46c43-7a67-4e84-955e-00bba5192ecd",
   "metadata": {},
   "source": [
    "All together about 10 ms for the bulk of the work."
   ]
  },
  {
   "cell_type": "markdown",
   "id": "6d2feb37-e5d5-486b-8942-cd577e4cb75f",
   "metadata": {},
   "source": [
    "## Double check a single value"
   ]
  },
  {
   "cell_type": "code",
   "execution_count": 21,
   "id": "4d9a55b6-345d-4cfc-a37c-402e8d316d6c",
   "metadata": {},
   "outputs": [
    {
     "data": {
      "text/plain": [
       "tensor([[0.4446, 0.7661, 0.5039,  ..., 0.7991, 0.7570, 0.7704],\n",
       "        [0.4463, 0.7588, 0.5065,  ..., 0.7900, 0.7487, 0.7617],\n",
       "        [0.4483, 0.7515, 0.5094,  ..., 0.7810, 0.7406, 0.7531],\n",
       "        ...,\n",
       "        [0.5759, 0.4122, 0.6016,  ..., 0.6302, 0.5080, 0.5612],\n",
       "        [0.5846, 0.4092, 0.6103,  ..., 0.6257, 0.5043, 0.5612],\n",
       "        [0.5933, 0.4064, 0.6189,  ..., 0.6213, 0.5009, 0.5602]],\n",
       "       device='cuda:0')"
      ]
     },
     "execution_count": 21,
     "metadata": {},
     "output_type": "execute_result"
    }
   ],
   "source": [
    "distances = distances.view(3205, 1968); distances"
   ]
  },
  {
   "cell_type": "code",
   "execution_count": 22,
   "id": "8a161c43-9847-4baf-bb10-554d29a139ba",
   "metadata": {},
   "outputs": [],
   "source": [
    "p = closest_point_on_triangle(vertices[2].unsqueeze(0), triangles[1].unsqueeze(0))"
   ]
  },
  {
   "cell_type": "code",
   "execution_count": 23,
   "id": "7599be40-658b-4f2e-bd25-1ef2025f8df5",
   "metadata": {},
   "outputs": [],
   "source": [
    "v = vertices[2].unsqueeze(0) - p"
   ]
  },
  {
   "cell_type": "code",
   "execution_count": 24,
   "id": "55b6b8b6-a66f-4b41-a3bd-4df0ecfaabbf",
   "metadata": {},
   "outputs": [],
   "source": [
    "v **= 2"
   ]
  },
  {
   "cell_type": "code",
   "execution_count": 25,
   "id": "88d74070-2a92-403c-a413-d883713d4ed3",
   "metadata": {},
   "outputs": [
    {
     "data": {
      "text/plain": [
       "tensor(0.7515, device='cuda:0')"
      ]
     },
     "execution_count": 25,
     "metadata": {},
     "output_type": "execute_result"
    }
   ],
   "source": [
    "v.sum().sqrt()"
   ]
  },
  {
   "cell_type": "code",
   "execution_count": 26,
   "id": "9c7f63bf-4c9e-4850-ba01-0e952d2a7164",
   "metadata": {},
   "outputs": [],
   "source": [
    "closest_triangle_inds = torch.argmin(distances, dim=1)"
   ]
  },
  {
   "cell_type": "code",
   "execution_count": 27,
   "id": "d4b84c9d-90d3-4633-90e8-c8abc10b6c4b",
   "metadata": {},
   "outputs": [
    {
     "name": "stdout",
     "output_type": "stream",
     "text": [
      "121 µs ± 12.1 µs per loop (mean ± std. dev. of 7 runs, 10,000 loops each)\n"
     ]
    }
   ],
   "source": [
    "%timeit torch.argmin(distances, dim=1)"
   ]
  },
  {
   "cell_type": "code",
   "execution_count": 28,
   "id": "5e0e4f65-57e8-4a9f-a8d7-7f673cb2b58f",
   "metadata": {},
   "outputs": [],
   "source": [
    "closest_points = closest_points.view(3205, 1968, 3)"
   ]
  },
  {
   "cell_type": "code",
   "execution_count": 29,
   "id": "ad50c603-2139-4bff-a52d-39221d953084",
   "metadata": {},
   "outputs": [
    {
     "name": "stdout",
     "output_type": "stream",
     "text": [
      "269 µs ± 13.2 µs per loop (mean ± std. dev. of 7 runs, 1,000 loops each)\n"
     ]
    }
   ],
   "source": [
    "%timeit closest_points[torch.arange(3205), closest_triangle_inds]"
   ]
  },
  {
   "cell_type": "code",
   "execution_count": 30,
   "id": "5e1ec76f-f653-4f3a-8d86-faf37fe3f753",
   "metadata": {},
   "outputs": [],
   "source": [
    "closest_points = closest_points[torch.arange(3205), closest_triangle_inds]"
   ]
  },
  {
   "cell_type": "code",
   "execution_count": 31,
   "id": "ddc441df-0a33-4a35-a0fe-5d12dca04ca4",
   "metadata": {},
   "outputs": [],
   "source": [
    "point_vectors = vertices - closest_points"
   ]
  },
  {
   "cell_type": "code",
   "execution_count": 32,
   "id": "da2d251f-cdde-4dfd-bd62-69f3dfa078cd",
   "metadata": {},
   "outputs": [],
   "source": [
    "distance_to_closest = torch.norm(point_vectors, dim=1)"
   ]
  },
  {
   "cell_type": "code",
   "execution_count": 33,
   "id": "946a6526-3746-4626-b2dd-e9af2c225995",
   "metadata": {},
   "outputs": [
    {
     "data": {
      "text/plain": [
       "tensor([0.1372, 0.1283, 0.1196,  ..., 0.0790, 0.0835, 0.0886], device='cuda:0')"
      ]
     },
     "execution_count": 33,
     "metadata": {},
     "output_type": "execute_result"
    }
   ],
   "source": [
    "distance_to_closest"
   ]
  },
  {
   "cell_type": "code",
   "execution_count": 34,
   "id": "7d44b614-d0e9-4d1c-85db-807ff54b03c6",
   "metadata": {},
   "outputs": [
    {
     "data": {
      "text/plain": [
       "tensor(0.2128, device='cuda:0')"
      ]
     },
     "execution_count": 34,
     "metadata": {},
     "output_type": "execute_result"
    }
   ],
   "source": [
    "distance_to_closest.max()"
   ]
  },
  {
   "cell_type": "code",
   "execution_count": 35,
   "id": "9f9ce4a2-d56c-4aa3-9cc2-67c2ef6f446e",
   "metadata": {},
   "outputs": [
    {
     "data": {
      "text/plain": [
       "tensor([-0.1458,  1.8576,  0.1198], device='cuda:0')"
      ]
     },
     "execution_count": 35,
     "metadata": {},
     "output_type": "execute_result"
    }
   ],
   "source": [
    "vertices[-1]"
   ]
  },
  {
   "cell_type": "code",
   "execution_count": 36,
   "id": "46471e9f-b53e-4e4b-b5b0-0b51080d3a90",
   "metadata": {},
   "outputs": [],
   "source": [
    "normal_vectors = normals[closest_triangle_inds]"
   ]
  },
  {
   "cell_type": "code",
   "execution_count": 37,
   "id": "bd937052-6dff-4f7c-92b6-14108904fb40",
   "metadata": {},
   "outputs": [
    {
     "data": {
      "text/plain": [
       "tensor(2.1796, device='cuda:0')"
      ]
     },
     "execution_count": 37,
     "metadata": {},
     "output_type": "execute_result"
    }
   ],
   "source": [
    "triangles[:, :, 1].max()"
   ]
  },
  {
   "cell_type": "code",
   "execution_count": 38,
   "id": "77c4ee28-8854-47ed-aa02-bcd3261a37ba",
   "metadata": {},
   "outputs": [],
   "source": [
    "inside_closest_mesh = torch.sum(point_vectors * normal_vectors, dim=1)"
   ]
  },
  {
   "cell_type": "code",
   "execution_count": 39,
   "id": "17ea259d-6c66-4e0d-b2fe-dc612931bf2a",
   "metadata": {},
   "outputs": [
    {
     "data": {
      "text/plain": [
       "tensor(352, device='cuda:0')"
      ]
     },
     "execution_count": 39,
     "metadata": {},
     "output_type": "execute_result"
    }
   ],
   "source": [
    "(inside_closest_mesh < 0.).sum()"
   ]
  },
  {
   "cell_type": "code",
   "execution_count": 44,
   "id": "d2e5aa1d-4dbf-4dbc-9092-a850d013fd21",
   "metadata": {},
   "outputs": [
    {
     "data": {
      "text/plain": [
       "(tensor([1680, 1683, 1741, 1798, 2245, 2298, 2299, 2300, 2301, 2302, 2303, 2345,\n",
       "         2346, 2347, 2348, 2349, 2350, 2351, 2352, 2353, 2354, 2355, 2356, 2357,\n",
       "         2358, 2359, 2360, 2361, 2362, 2406, 2407, 2408, 2456, 2457, 2458, 2459,\n",
       "         2498, 2499, 2501, 2549, 2600, 2609, 2651, 2655, 2690, 2701, 2741, 2742,\n",
       "         2793, 2945], device='cuda:0'),)"
      ]
     },
     "execution_count": 44,
     "metadata": {},
     "output_type": "execute_result"
    }
   ],
   "source": [
    "torch.where(inside_closest_mesh < -1e-7)"
   ]
  },
  {
   "cell_type": "code",
   "execution_count": 46,
   "id": "9a82edb8-5097-4835-a321-03aeb47facb1",
   "metadata": {},
   "outputs": [
    {
     "data": {
      "text/plain": [
       "50"
      ]
     },
     "execution_count": 46,
     "metadata": {},
     "output_type": "execute_result"
    }
   ],
   "source": [
    "len(torch.where(inside_closest_mesh < -1e-7)[0])"
   ]
  },
  {
   "cell_type": "code",
   "execution_count": 40,
   "id": "0a028d11-748a-4963-8a9c-46c79cb87cd2",
   "metadata": {},
   "outputs": [
    {
     "name": "stdout",
     "output_type": "stream",
     "text": [
      "204 µs ± 21.4 µs per loop (mean ± std. dev. of 7 runs, 1,000 loops each)\n"
     ]
    }
   ],
   "source": [
    "%timeit torch.sum(point_vectors * normal_vectors, dim=1)"
   ]
  }
 ],
 "metadata": {
  "kernelspec": {
   "display_name": "Python 3 (ipykernel)",
   "language": "python",
   "name": "python3"
  },
  "language_info": {
   "codemirror_mode": {
    "name": "ipython",
    "version": 3
   },
   "file_extension": ".py",
   "mimetype": "text/x-python",
   "name": "python",
   "nbconvert_exporter": "python",
   "pygments_lexer": "ipython3",
   "version": "3.11.5"
  }
 },
 "nbformat": 4,
 "nbformat_minor": 5
}
