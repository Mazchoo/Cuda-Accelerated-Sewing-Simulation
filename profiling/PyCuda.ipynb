{
 "cells": [
  {
   "cell_type": "code",
   "execution_count": 1,
   "id": "050d9dc6-d97e-4400-8355-53c6dc4d0b5b",
   "metadata": {},
   "outputs": [],
   "source": [
    "import numpy as np\n",
    "import pycuda.autoinit\n",
    "import pycuda.driver as cuda\n",
    "from pycuda.compiler import SourceModule"
   ]
  },
  {
   "cell_type": "code",
   "execution_count": 2,
   "id": "6785208d-3c50-4748-a57f-5354d7669333",
   "metadata": {},
   "outputs": [
    {
     "name": "stdout",
     "output_type": "stream",
     "text": [
      "usage: cl [ option... ] filename... [ /link linkoption... ]\n"
     ]
    },
    {
     "name": "stderr",
     "output_type": "stream",
     "text": [
      "Microsoft (R) C/C++ Optimizing Compiler Version 19.43.34810 for x64\n",
      "Copyright (C) Microsoft Corporation.  All rights reserved.\n",
      "\n"
     ]
    }
   ],
   "source": [
    "!cl"
   ]
  },
  {
   "cell_type": "code",
   "execution_count": 3,
   "id": "b3979619-90c6-4591-aa87-805e90b258b4",
   "metadata": {},
   "outputs": [],
   "source": [
    "points = np.random.random((1024**2, 3)).astype(np.float32)\n",
    "query = np.random.random(3).astype(np.float32)"
   ]
  },
  {
   "cell_type": "code",
   "execution_count": 4,
   "id": "de3795a1-f78c-4b9b-89ea-a8fb9647b3db",
   "metadata": {},
   "outputs": [
    {
     "name": "stderr",
     "output_type": "stream",
     "text": [
      "C:\\Users\\CYBORG\\AppData\\Local\\Temp\\ipykernel_9884\\3829231400.py:1: UserWarning: The CUDA compiler succeeded, but said the following:\n",
      "kernel.cu\n",
      "\n",
      "  mod = SourceModule(\"\"\"\n"
     ]
    }
   ],
   "source": [
    "mod = SourceModule(\"\"\"\n",
    "    __global__ void find_closest_point(float *points, float *query_point, float *distances, int num_points) {\n",
    "        int idx = threadIdx.x + blockIdx.x * blockDim.x;\n",
    "        if (idx < num_points) {\n",
    "            float px = points[3 * idx];\n",
    "            float py = points[3 * idx + 1];\n",
    "            float pz = points[3 * idx + 2];\n",
    "\n",
    "            // Compute Euclidean distance from query_point\n",
    "            float dx = px - query_point[0];\n",
    "            float dy = py - query_point[1];\n",
    "            float dz = pz - query_point[2];\n",
    "            distances[idx] = sqrt(dx * dx + dy * dy + dz * dz);\n",
    "        }\n",
    "    }\n",
    "\n",
    "    __global__ void find_min_distance_index(float *distances, int *min_idx, int num_points) {\n",
    "        __shared__ float shared_distances[1024];\n",
    "        __shared__ int shared_idx[1024];\n",
    "\n",
    "        int idx = threadIdx.x + blockIdx.x * blockDim.x;\n",
    "        if (idx < num_points) {\n",
    "            shared_distances[threadIdx.x] = distances[idx];\n",
    "            shared_idx[threadIdx.x] = idx;\n",
    "        }\n",
    "        __syncthreads();\n",
    "\n",
    "        // Perform reduction to find the minimum\n",
    "        for (int stride = 1; stride < blockDim.x; stride *= 2) {\n",
    "            if (threadIdx.x % (2 * stride) == 0) {\n",
    "                if (shared_distances[threadIdx.x + stride] < shared_distances[threadIdx.x]) {\n",
    "                    shared_distances[threadIdx.x] = shared_distances[threadIdx.x + stride];\n",
    "                    shared_idx[threadIdx.x] = shared_idx[threadIdx.x + stride];\n",
    "                }\n",
    "            }\n",
    "            __syncthreads();\n",
    "        }\n",
    "\n",
    "        if (threadIdx.x == 0) {\n",
    "            atomicMin(min_idx, shared_distances[0]);\n",
    "        }\n",
    "    }\n",
    "\"\"\")"
   ]
  },
  {
   "cell_type": "code",
   "execution_count": 9,
   "id": "256dc819-dbff-45eb-967a-066c6589a4d6",
   "metadata": {},
   "outputs": [],
   "source": [
    "def get_closest_point(points_gpu, query_point_gpu, distances_gpu,\n",
    "                      num_points, points, \n",
    "                      block_size, grid_size,\n",
    "                      min_idx, min_idx_gpu):\n",
    "    find_closest_point(points_gpu, query_point_gpu, distances_gpu, \n",
    "                       num_points, block=(block_size, 1, 1), grid=(grid_size, 1))\n",
    "\n",
    "    # Run the kernel to find the minimum distance index\n",
    "    find_min_distance_index(distances_gpu, min_idx_gpu, num_points, block=(block_size, 1, 1), grid=(1, 1))\n",
    "    \n",
    "    # Copy the result back to host\n",
    "    min_idx = np.zeros(1, dtype=np.int32)\n",
    "    cuda.memcpy_dtoh(min_idx, min_idx_gpu)\n",
    "    \n",
    "    # Find the closest point\n",
    "    return points[min_idx[0]]"
   ]
  },
  {
   "cell_type": "code",
   "execution_count": 15,
   "id": "eb644d3d-5758-4f9c-8aef-9cf9492798d4",
   "metadata": {},
   "outputs": [
    {
     "name": "stdout",
     "output_type": "stream",
     "text": [
      "The closest point to [0.577042   0.9979119  0.06900531] is [0.8847513  0.6549284  0.30252865] at index 0\n"
     ]
    }
   ],
   "source": [
    "# Define number of 3D points\n",
    "num_points = np.int32(1024 * 1024)\n",
    "\n",
    "# Allocate memory on GPU\n",
    "points_gpu = cuda.mem_alloc(points.nbytes)\n",
    "query_point_gpu = cuda.mem_alloc(query.nbytes)\n",
    "distances_gpu = cuda.mem_alloc(points.shape[0] * np.float32(0).nbytes)\n",
    "min_idx_gpu = cuda.mem_alloc(np.int32(0).nbytes)\n",
    "\n",
    "# Copy data to GPU\n",
    "cuda.memcpy_htod(points_gpu, points)\n",
    "cuda.memcpy_htod(query_point_gpu, query)\n",
    "\n",
    "# Prepare the kernel functions\n",
    "find_closest_point = mod.get_function(\"find_closest_point\")\n",
    "find_min_distance_index = mod.get_function(\"find_min_distance_index\")\n",
    "\n",
    "# Define block and grid sizes\n",
    "block_size = 1024\n",
    "grid_size = (int(num_points) + block_size - 1) // block_size\n",
    "\n",
    "# Run the kernel to calculate distances\n",
    "find_closest_point(points_gpu, query_point_gpu, distances_gpu, num_points, block=(block_size, 1, 1), grid=(grid_size, 1))\n",
    "\n",
    "# Run the kernel to find the minimum distance index\n",
    "find_min_distance_index(distances_gpu, min_idx_gpu, num_points, block=(block_size, 1, 1), grid=(1, 1))\n",
    "\n",
    "# Copy the result back to host\n",
    "min_idx = np.zeros(1, dtype=np.int32)\n",
    "cuda.memcpy_dtoh(min_idx, min_idx_gpu)\n",
    "\n",
    "# Find the closest point\n",
    "closest_point = points[min_idx[0]]\n",
    "\n",
    "print(f\"The closest point to {query} is {closest_point} at index {min_idx[0]}\")"
   ]
  },
  {
   "cell_type": "code",
   "execution_count": 16,
   "id": "5c5a49ca-8864-4a03-8b2b-d86dba38ca14",
   "metadata": {},
   "outputs": [
    {
     "data": {
      "text/plain": [
       "array([0.8847513 , 0.6549284 , 0.30252865], dtype=float32)"
      ]
     },
     "execution_count": 16,
     "metadata": {},
     "output_type": "execute_result"
    }
   ],
   "source": [
    "get_closest_point(points_gpu, query_point_gpu, distances_gpu, num_points, points, block_size, grid_size, min_idx, min_idx_gpu)"
   ]
  },
  {
   "cell_type": "code",
   "execution_count": 17,
   "id": "ef9a52a1-b282-4e96-a840-30574a665933",
   "metadata": {},
   "outputs": [
    {
     "name": "stdout",
     "output_type": "stream",
     "text": [
      "307 µs ± 26.3 µs per loop (mean ± std. dev. of 7 runs, 1,000 loops each)\n"
     ]
    }
   ],
   "source": [
    "%timeit get_closest_point(points_gpu, query_point_gpu, distances_gpu, num_points, points, block_size, grid_size, min_idx, min_idx_gpu)"
   ]
  }
 ],
 "metadata": {
  "kernelspec": {
   "display_name": "Python 3 (ipykernel)",
   "language": "python",
   "name": "python3"
  },
  "language_info": {
   "codemirror_mode": {
    "name": "ipython",
    "version": 3
   },
   "file_extension": ".py",
   "mimetype": "text/x-python",
   "name": "python",
   "nbconvert_exporter": "python",
   "pygments_lexer": "ipython3",
   "version": "3.11.5"
  }
 },
 "nbformat": 4,
 "nbformat_minor": 5
}
