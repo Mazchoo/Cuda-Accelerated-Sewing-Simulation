{
 "cells": [
  {
   "cell_type": "markdown",
   "id": "95539aa7-a52c-4203-8cd3-270c5cf70072",
   "metadata": {},
   "source": [
    "Set-up nearest neighbour problem and profile on cpu and check that we can get an improvement with pytorch."
   ]
  },
  {
   "cell_type": "markdown",
   "id": "c2e70754-9f67-438f-97c5-7dc5434a8342",
   "metadata": {},
   "source": [
    "## Imports"
   ]
  },
  {
   "cell_type": "code",
   "execution_count": 1,
   "id": "c5eb75cb-6773-47fb-8077-813982dd9d95",
   "metadata": {},
   "outputs": [],
   "source": [
    "import numpy as np\n",
    "import torch"
   ]
  },
  {
   "cell_type": "code",
   "execution_count": 2,
   "id": "57bfaf8b-de2d-48ef-87ac-91fc3be38210",
   "metadata": {},
   "outputs": [],
   "source": [
    "from common import save_numpy_array"
   ]
  },
  {
   "cell_type": "code",
   "execution_count": 3,
   "id": "c9f217d7-c23c-4c71-96c0-eefa68d33834",
   "metadata": {},
   "outputs": [
    {
     "data": {
      "text/plain": [
       "True"
      ]
     },
     "execution_count": 3,
     "metadata": {},
     "output_type": "execute_result"
    }
   ],
   "source": [
    "torch.cuda.is_available()"
   ]
  },
  {
   "cell_type": "markdown",
   "id": "0552a8d3-6b6c-4b12-a0a9-e191045683a5",
   "metadata": {},
   "source": [
    "## Setup problem"
   ]
  },
  {
   "cell_type": "markdown",
   "id": "ea6a96a6-9200-47e6-b995-d3a856ac71c8",
   "metadata": {},
   "source": [
    "Start a million points with the task to return the closest point to a query point."
   ]
  },
  {
   "cell_type": "code",
   "execution_count": 4,
   "id": "a1220b24-cbaf-46cd-b561-044142d6a699",
   "metadata": {},
   "outputs": [],
   "source": [
    "points = np.random.random((1024**2, 3)).astype(np.float32)\n",
    "query = np.random.random(3).astype(np.float32)"
   ]
  },
  {
   "cell_type": "markdown",
   "id": "3766c825-8b98-4f9c-9a55-661868581136",
   "metadata": {},
   "source": [
    "## Get base measurement for numpy"
   ]
  },
  {
   "cell_type": "markdown",
   "id": "8e09c35f-522c-447a-8515-c744133852f3",
   "metadata": {},
   "source": [
    "Make a one line numpy implementation and profile it."
   ]
  },
  {
   "cell_type": "code",
   "execution_count": 5,
   "id": "dbc18d89-6b24-41ec-889c-8abc813a3c6f",
   "metadata": {},
   "outputs": [],
   "source": [
    "def numpy_implementation(points: np.ndarray, query_point: np.ndarray) -> np.ndarray:\n",
    "    \"\"\" Return nearest neighbour point \"\"\"\n",
    "    return points[np.linalg.norm(points - query_point, axis=1).argmin()]"
   ]
  },
  {
   "cell_type": "code",
   "execution_count": 6,
   "id": "f576945d-5146-41ca-9fd1-3e1eb15ddf7e",
   "metadata": {},
   "outputs": [
    {
     "data": {
      "text/plain": [
       "array([0.72436523, 0.10307071, 0.2642327 ], dtype=float32)"
      ]
     },
     "execution_count": 6,
     "metadata": {},
     "output_type": "execute_result"
    }
   ],
   "source": [
    "numpy_implementation(points, query)"
   ]
  },
  {
   "cell_type": "code",
   "execution_count": 7,
   "id": "15b58442-0ec9-4262-b24a-5910138d3309",
   "metadata": {},
   "outputs": [
    {
     "name": "stdout",
     "output_type": "stream",
     "text": [
      "79.5 ms ± 4.42 ms per loop (mean ± std. dev. of 7 runs, 10 loops each)\n"
     ]
    }
   ],
   "source": [
    "%timeit numpy_implementation(points, query)"
   ]
  },
  {
   "cell_type": "markdown",
   "id": "a15a3ab0-74ff-46e8-abc3-15a94c29c762",
   "metadata": {},
   "source": [
    "## Get base measurement for pytorch"
   ]
  },
  {
   "cell_type": "markdown",
   "id": "7682c6de-5a00-4972-aed2-5828caf5fe48",
   "metadata": {},
   "source": [
    "We are often limited to cases where we can preallocate on the cpu. In this instance, the gpu allocation isn't too expensive. If we are allocating often, we can use page locked memory (which is a cuda concept but it is in Pytorch)."
   ]
  },
  {
   "cell_type": "code",
   "execution_count": 8,
   "id": "f97df0f6-a4f6-416c-83ed-d615f88f7217",
   "metadata": {},
   "outputs": [
    {
     "name": "stdout",
     "output_type": "stream",
     "text": [
      "3.72 ms ± 642 µs per loop (mean ± std. dev. of 7 runs, 1 loop each)\n"
     ]
    }
   ],
   "source": [
    "%timeit points_torch = torch.tensor(points).cuda()"
   ]
  },
  {
   "cell_type": "code",
   "execution_count": 9,
   "id": "d310366d-1279-469a-84e5-abdb0c9c7c19",
   "metadata": {},
   "outputs": [],
   "source": [
    "points_torch = torch.tensor(points).cuda()\n",
    "query_torch = torch.tensor(query).cuda()"
   ]
  },
  {
   "cell_type": "markdown",
   "id": "034a078e-e2e4-4333-85aa-2c12287adff0",
   "metadata": {},
   "source": [
    "Pytorch also has a one line implementation which can be used to check if the operation is worth doing on the gpu."
   ]
  },
  {
   "cell_type": "code",
   "execution_count": 10,
   "id": "afddbdc3-217e-4e8b-96f0-a29c75f90d18",
   "metadata": {},
   "outputs": [],
   "source": [
    "def torch_implementation(points: torch.Tensor, query: torch.Tensor) -> torch.Tensor:\n",
    "    \"\"\" Return nearest neighbour point from torch array \"\"\"\n",
    "    return points[torch.min(torch.norm(points - query, dim=1), dim=0)[1]].cpu()"
   ]
  },
  {
   "cell_type": "markdown",
   "id": "5c64f945-dc0b-40ac-96d5-2f2748d01794",
   "metadata": {},
   "source": [
    "We also have to copy back from gpu to host here but the memory is relatively small."
   ]
  },
  {
   "cell_type": "code",
   "execution_count": 11,
   "id": "a3787b74-10a1-4adc-819d-d09f107bc26b",
   "metadata": {},
   "outputs": [
    {
     "data": {
      "text/plain": [
       "tensor([0.7244, 0.1031, 0.2642])"
      ]
     },
     "execution_count": 11,
     "metadata": {},
     "output_type": "execute_result"
    }
   ],
   "source": [
    "torch_implementation(points_torch, query_torch)"
   ]
  },
  {
   "cell_type": "markdown",
   "id": "9ca3d0ab-f289-4cc1-818f-f559861662d3",
   "metadata": {},
   "source": [
    "Using pytorch makes a significant improvement."
   ]
  },
  {
   "cell_type": "code",
   "execution_count": 12,
   "id": "512927cf-5f8d-4c1b-bc5c-82d371f3669c",
   "metadata": {},
   "outputs": [
    {
     "name": "stdout",
     "output_type": "stream",
     "text": [
      "532 µs ± 18.5 µs per loop (mean ± std. dev. of 7 runs, 1,000 loops each)\n"
     ]
    }
   ],
   "source": [
    "%timeit torch_implementation(points_torch, query_torch)"
   ]
  },
  {
   "cell_type": "markdown",
   "id": "8a238118-7785-4544-a1c1-6513bd2950af",
   "metadata": {},
   "source": [
    "## Save the points for later use"
   ]
  },
  {
   "cell_type": "code",
   "execution_count": 13,
   "id": "8473f120-c41a-40cb-862b-456e4d22d736",
   "metadata": {},
   "outputs": [],
   "source": [
    "save_numpy_array(\"nearest_neighbour_points.npy\", points)"
   ]
  },
  {
   "cell_type": "code",
   "execution_count": 14,
   "id": "59cd9904-0ec1-4c19-bb38-b803a2f21d50",
   "metadata": {},
   "outputs": [],
   "source": [
    "save_numpy_array(\"nearest_neighbour_query.npy\", query)"
   ]
  }
 ],
 "metadata": {
  "kernelspec": {
   "display_name": "Python 3 (ipykernel)",
   "language": "python",
   "name": "python3"
  },
  "language_info": {
   "codemirror_mode": {
    "name": "ipython",
    "version": 3
   },
   "file_extension": ".py",
   "mimetype": "text/x-python",
   "name": "python",
   "nbconvert_exporter": "python",
   "pygments_lexer": "ipython3",
   "version": "3.11.5"
  }
 },
 "nbformat": 4,
 "nbformat_minor": 5
}
