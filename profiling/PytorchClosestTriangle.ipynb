{
 "cells": [
  {
   "cell_type": "code",
   "execution_count": 78,
   "id": "7633ffaa-e493-44ce-8627-29c19b3de04e",
   "metadata": {},
   "outputs": [],
   "source": [
    "import torch"
   ]
  },
  {
   "cell_type": "code",
   "execution_count": 105,
   "id": "a4b2a65a-4e07-46fb-a62d-69ad586eb212",
   "metadata": {},
   "outputs": [],
   "source": [
    "def closest_point_on_triangle(p, a, b, c):\n",
    "    \"\"\"\n",
    "    p: (N, 3) query points\n",
    "    a, b, c: (N, 3) triangle vertices\n",
    "    Returns: (N, 3) closest points on each triangle\n",
    "    \"\"\"\n",
    "    ab = b - a\n",
    "    ac = c - a\n",
    "    ap = p - a\n",
    "\n",
    "    d1 = torch.sum(ab * ap, dim=1, keepdim=True)\n",
    "    d2 = torch.sum(ac * ap, dim=1, keepdim=True)\n",
    "    d3 = torch.sum(ab * ab, dim=1, keepdim=True)\n",
    "    d4 = torch.sum(ab * ac, dim=1, keepdim=True)\n",
    "    d5 = torch.sum(ac * ac, dim=1, keepdim=True)\n",
    "\n",
    "    denom = d3 * d5 - d4 * d4\n",
    "    v = (d5 * d1 - d4 * d2) / (denom + 1e-10)\n",
    "    w = (d3 * d2 - d4 * d1) / (denom + 1e-10)\n",
    "    u = 1 - v - w\n",
    "\n",
    "    # Clamp barycentric coordinates to the triangle\n",
    "    v_clamped = torch.clamp(v, 0, 1)\n",
    "    w_clamped = torch.clamp(w, 0, 1)\n",
    "    u_clamped = torch.clamp(1 - v_clamped - w_clamped, 0, 1)\n",
    "\n",
    "    # Recompute v and w to make sure they sum to ≤ 1\n",
    "    sum_clamped = u_clamped + v_clamped + w_clamped\n",
    "    u = u_clamped / sum_clamped\n",
    "    v = v_clamped / sum_clamped\n",
    "    w = w_clamped / sum_clamped\n",
    "\n",
    "    return a * u + b * v + c * w"
   ]
  },
  {
   "cell_type": "code",
   "execution_count": 106,
   "id": "90788996-e585-4dc6-8562-94279354cd94",
   "metadata": {},
   "outputs": [],
   "source": [
    "query_point = torch.tensor([0.5, 0.5, 0.5], dtype=torch.float32)"
   ]
  },
  {
   "cell_type": "code",
   "execution_count": 107,
   "id": "18004948-e463-4ad6-b9aa-c178948e1219",
   "metadata": {},
   "outputs": [],
   "source": [
    "a = torch.tensor([[1, 0, 0]], dtype=torch.float32)"
   ]
  },
  {
   "cell_type": "code",
   "execution_count": 108,
   "id": "d57b947f-d5c8-40e5-bcef-1c1c4a7cd59c",
   "metadata": {},
   "outputs": [],
   "source": [
    "b = torch.tensor([[0, 1, 0]], dtype=torch.float32)"
   ]
  },
  {
   "cell_type": "code",
   "execution_count": 109,
   "id": "3dc5c169-613b-48dd-acbf-03c8ba7e0d52",
   "metadata": {},
   "outputs": [],
   "source": [
    "c = torch.tensor([[0, 0, 1]], dtype=torch.float32)"
   ]
  },
  {
   "cell_type": "code",
   "execution_count": 110,
   "id": "4b1c151b-ca80-4f44-aeb1-c65ace02cb68",
   "metadata": {},
   "outputs": [
    {
     "data": {
      "text/plain": [
       "tensor([[0.3333, 0.3333, 0.3333]])"
      ]
     },
     "execution_count": 110,
     "metadata": {},
     "output_type": "execute_result"
    }
   ],
   "source": [
    "closest_point_on_triangle(query_point, a, b, c)"
   ]
  },
  {
   "cell_type": "code",
   "execution_count": 112,
   "id": "490d0bd6-b373-4839-a043-2fab93166e30",
   "metadata": {},
   "outputs": [
    {
     "name": "stdout",
     "output_type": "stream",
     "text": [
      "✅ Test passed\n"
     ]
    }
   ],
   "source": [
    "def test_closest_point_on_triangle():\n",
    "    a = torch.tensor([[0., 0., 0.]])\n",
    "    b = torch.tensor([[1., 0., 0.]])\n",
    "    c = torch.tensor([[0., 1., 0.]])\n",
    "\n",
    "    # Test points\n",
    "    test_points = torch.tensor([\n",
    "        [0.25, 0.25, 0.0],   # inside triangle\n",
    "        [-1.0, -1.0, 0.0],   # closest to vertex A\n",
    "        [0.5, -0.5, 0.0],    # closest to edge AB\n",
    "        [-0.5, 0.5, 0.0],    # closest to edge AC\n",
    "        [0.5, 0.5, 0.0],     # closest to edge BC\n",
    "        [0.25, 0.25, 1.0],   # above triangle, project to face\n",
    "    ])\n",
    "\n",
    "    expected = torch.tensor([\n",
    "        [0.25, 0.25, 0.0],  # same (inside)\n",
    "        [0.0, 0.0, 0.0],    # vertex A\n",
    "        [0.5, 0.0, 0.0],    # projected to AB\n",
    "        [0.0, 0.5, 0.0],    # projected to AC\n",
    "        [0.5, 0.5, 0.0],    # projected to BC\n",
    "        [0.25, 0.25, 0.0],  # projected to face\n",
    "    ])\n",
    "\n",
    "    n = len(test_points)\n",
    "    a = a.expand(n, -1)\n",
    "    b = b.expand(n, -1)\n",
    "    c = c.expand(n, -1)\n",
    "\n",
    "    output = closest_point_on_triangle(test_points, a, b, c)\n",
    "\n",
    "    # Compare outputs\n",
    "    if not torch.allclose(output, expected, atol=1e-5):\n",
    "        print(\"❌ Test failed\")\n",
    "        print(\"Expected:\\n\", expected)\n",
    "        print(\"Got:\\n\", output)\n",
    "    else:\n",
    "        print(\"✅ Test passed\")"
   ]
  },
  {
   "cell_type": "code",
   "execution_count": 113,
   "id": "41eb2e55-457e-4340-9a3f-720183212e98",
   "metadata": {},
   "outputs": [
    {
     "name": "stdout",
     "output_type": "stream",
     "text": [
      "✅ Test passed\n"
     ]
    }
   ],
   "source": [
    "test_closest_point_on_triangle()"
   ]
  }
 ],
 "metadata": {
  "kernelspec": {
   "display_name": "Python 3 (ipykernel)",
   "language": "python",
   "name": "python3"
  },
  "language_info": {
   "codemirror_mode": {
    "name": "ipython",
    "version": 3
   },
   "file_extension": ".py",
   "mimetype": "text/x-python",
   "name": "python",
   "nbconvert_exporter": "python",
   "pygments_lexer": "ipython3",
   "version": "3.11.5"
  }
 },
 "nbformat": 4,
 "nbformat_minor": 5
}
