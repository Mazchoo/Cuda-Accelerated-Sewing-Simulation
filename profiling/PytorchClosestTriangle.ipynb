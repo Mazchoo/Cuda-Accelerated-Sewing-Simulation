{
 "cells": [
  {
   "cell_type": "code",
   "execution_count": 3,
   "id": "7633ffaa-e493-44ce-8627-29c19b3de04e",
   "metadata": {},
   "outputs": [],
   "source": [
    "import torch\n",
    "import numpy as np"
   ]
  },
  {
   "cell_type": "code",
   "execution_count": 4,
   "id": "7a228b2e-3f2a-4421-8b60-0d79d699dfea",
   "metadata": {},
   "outputs": [
    {
     "data": {
      "text/plain": [
       "True"
      ]
     },
     "execution_count": 4,
     "metadata": {},
     "output_type": "execute_result"
    }
   ],
   "source": [
    "torch.cuda.is_available()"
   ]
  },
  {
   "cell_type": "code",
   "execution_count": 20,
   "id": "a4b2a65a-4e07-46fb-a62d-69ad586eb212",
   "metadata": {},
   "outputs": [],
   "source": [
    "def closest_point_on_triangle(p, triangle):\n",
    "    \"\"\"\n",
    "        p: (N, 3) query points\n",
    "        triangle: (N, 3, 3) triangle vertices\n",
    "        Returns: (N, 3) closest points on each triangle\n",
    "    \"\"\"\n",
    "    ab = triangle[:, 1] - triangle[:, 0]\n",
    "    ac = triangle[:, 2] - triangle[:, 0]\n",
    "    ap = p - triangle[:, 0]\n",
    "\n",
    "    d1 = torch.sum(ab * ap, dim=1, keepdim=True)\n",
    "    d2 = torch.sum(ac * ap, dim=1, keepdim=True)\n",
    "    d3 = torch.sum(ab * ab, dim=1, keepdim=True)\n",
    "    d4 = torch.sum(ab * ac, dim=1, keepdim=True)\n",
    "    d5 = torch.sum(ac * ac, dim=1, keepdim=True)\n",
    "\n",
    "    denom = d3 * d5 - d4 * d4\n",
    "    v = (d5 * d1 - d4 * d2) / (denom + 1e-10)\n",
    "    w = (d3 * d2 - d4 * d1) / (denom + 1e-10)\n",
    "    u = 1 - v - w\n",
    "\n",
    "    v_clamped = torch.clamp(v, 0, 1)\n",
    "    w_clamped = torch.clamp(w, 0, 1)\n",
    "    u_clamped = torch.clamp(1 - v_clamped - w_clamped, 0, 1)\n",
    "\n",
    "    sum_clamped = u_clamped + v_clamped + w_clamped\n",
    "    u = u_clamped / sum_clamped\n",
    "    v = v_clamped / sum_clamped\n",
    "    w = w_clamped / sum_clamped\n",
    "\n",
    "    return triangle[:, 0] * u + triangle[:, 1] * v + triangle[:, 2] * w"
   ]
  },
  {
   "cell_type": "code",
   "execution_count": 21,
   "id": "90788996-e585-4dc6-8562-94279354cd94",
   "metadata": {},
   "outputs": [],
   "source": [
    "query_point = torch.tensor([[0.5, 0.5, 0.5]], dtype=torch.float32)"
   ]
  },
  {
   "cell_type": "code",
   "execution_count": 22,
   "id": "18004948-e463-4ad6-b9aa-c178948e1219",
   "metadata": {},
   "outputs": [],
   "source": [
    "triangle = torch.tensor([[[1, 0, 0], [0, 1, 0], [0, 0, 1]]], dtype=torch.float32)"
   ]
  },
  {
   "cell_type": "code",
   "execution_count": 23,
   "id": "4b1c151b-ca80-4f44-aeb1-c65ace02cb68",
   "metadata": {},
   "outputs": [
    {
     "data": {
      "text/plain": [
       "tensor([[0.3333, 0.3333, 0.3333]])"
      ]
     },
     "execution_count": 23,
     "metadata": {},
     "output_type": "execute_result"
    }
   ],
   "source": [
    "closest_point_on_triangle(query_point, triangle)"
   ]
  },
  {
   "cell_type": "code",
   "execution_count": 26,
   "id": "490d0bd6-b373-4839-a043-2fab93166e30",
   "metadata": {},
   "outputs": [],
   "source": [
    "def test_closest_point_on_triangle():\n",
    "    triangle = torch.tensor([[[0, 0, 0], [1, 0, 0], [0, 1, 0]]], dtype=torch.float32)\n",
    "\n",
    "    # Test points\n",
    "    test_points = torch.tensor([\n",
    "        [0.25, 0.25, 0.0],   # inside triangle\n",
    "        [-1.0, -1.0, 0.0],   # closest to vertex A\n",
    "        [0.5, -0.5, 0.0],    # closest to edge AB\n",
    "        [-0.5, 0.5, 0.0],    # closest to edge AC\n",
    "        [0.5, 0.5, 0.0],     # closest to edge BC\n",
    "        [0.25, 0.25, 1.0],   # above triangle, project to face\n",
    "    ])\n",
    "\n",
    "    expected = torch.tensor([\n",
    "        [0.25, 0.25, 0.0],  # same (inside)\n",
    "        [0.0, 0.0, 0.0],    # vertex A\n",
    "        [0.5, 0.0, 0.0],    # projected to AB\n",
    "        [0.0, 0.5, 0.0],    # projected to AC\n",
    "        [0.5, 0.5, 0.0],    # projected to BC\n",
    "        [0.25, 0.25, 0.0],  # projected to face\n",
    "    ])\n",
    "\n",
    "    n = len(test_points)\n",
    "    output = closest_point_on_triangle(test_points, triangle)\n",
    "\n",
    "    # Compare outputs\n",
    "    if not torch.allclose(output, expected, atol=1e-5):\n",
    "        print(\"❌ Test failed\")\n",
    "        print(\"Expected:\\n\", expected)\n",
    "        print(\"Got:\\n\", output)\n",
    "    else:\n",
    "        print(\"✅ Test passed\")"
   ]
  },
  {
   "cell_type": "code",
   "execution_count": 27,
   "id": "41eb2e55-457e-4340-9a3f-720183212e98",
   "metadata": {},
   "outputs": [
    {
     "name": "stdout",
     "output_type": "stream",
     "text": [
      "✅ Test passed\n"
     ]
    }
   ],
   "source": [
    "test_closest_point_on_triangle()"
   ]
  },
  {
   "cell_type": "markdown",
   "id": "fbc2b968-696e-4af0-9c42-351df22d7fb7",
   "metadata": {},
   "source": [
    "## Profile using real triangle data"
   ]
  },
  {
   "cell_type": "code",
   "execution_count": 28,
   "id": "1292dfce-1c03-4887-a8fa-d7835b8dc184",
   "metadata": {},
   "outputs": [],
   "source": [
    "def load_numpy(filename: str) -> np.ndarray:\n",
    "    return np.load(f'./numpy/{filename}')"
   ]
  },
  {
   "cell_type": "code",
   "execution_count": 29,
   "id": "5f3aa2a1-2b56-4a58-a2e2-bd19ce1532d9",
   "metadata": {},
   "outputs": [],
   "source": [
    "vertices = torch.tensor(load_numpy('piece_vertices.npy')).cuda()"
   ]
  },
  {
   "cell_type": "code",
   "execution_count": 30,
   "id": "2b0d6318-bf02-4090-b387-8d627b262166",
   "metadata": {},
   "outputs": [],
   "source": [
    "triangles = torch.tensor(load_numpy('triangle_vertices.npy')).cuda()"
   ]
  },
  {
   "cell_type": "code",
   "execution_count": 251,
   "id": "7e831fcd-3eee-428d-b16f-acad262bf09f",
   "metadata": {},
   "outputs": [],
   "source": [
    "repeat_triangles = triangles.repeat(3205, 1, 1)"
   ]
  },
  {
   "cell_type": "code",
   "execution_count": 274,
   "id": "380ccb98-4e50-49b1-a350-f01d6635dddb",
   "metadata": {},
   "outputs": [
    {
     "name": "stdout",
     "output_type": "stream",
     "text": [
      "1.32 ms ± 31.7 µs per loop (mean ± std. dev. of 7 runs, 1,000 loops each)\n"
     ]
    }
   ],
   "source": [
    "%timeit triangles.repeat(3205, 1, 1)"
   ]
  },
  {
   "cell_type": "code",
   "execution_count": 256,
   "id": "2c1c30d9-6768-4f72-a034-581158705600",
   "metadata": {},
   "outputs": [],
   "source": [
    "repeat_vertices = vertices.repeat_interleave(1968, dim=0)"
   ]
  },
  {
   "cell_type": "code",
   "execution_count": 254,
   "id": "47d63b5b-83ae-4094-94de-bb12d15893b4",
   "metadata": {},
   "outputs": [
    {
     "name": "stdout",
     "output_type": "stream",
     "text": [
      "419 µs ± 7.11 µs per loop (mean ± std. dev. of 7 runs, 1,000 loops each)\n"
     ]
    }
   ],
   "source": [
    "%timeit vertices.repeat_interleave(1968, dim=0)"
   ]
  },
  {
   "cell_type": "code",
   "execution_count": 68,
   "id": "15d219a8-374f-468e-bde2-e44c322dd86a",
   "metadata": {},
   "outputs": [
    {
     "name": "stdout",
     "output_type": "stream",
     "text": [
      "32 ms ± 46.3 µs per loop (mean ± std. dev. of 7 runs, 100 loops each)\n"
     ]
    }
   ],
   "source": [
    "%timeit closest_point_on_triangle(repeat_vertices, repeat_triangles)"
   ]
  },
  {
   "cell_type": "code",
   "execution_count": 280,
   "id": "a72d5674-0e09-4fff-9ce6-32f996ec1e3e",
   "metadata": {},
   "outputs": [],
   "source": [
    "closest_points = closest_point_on_triangle(repeat_vertices, repeat_triangles)"
   ]
  },
  {
   "cell_type": "code",
   "execution_count": 286,
   "id": "ea049cc2-e96c-44b4-a98f-c66512177466",
   "metadata": {},
   "outputs": [],
   "source": [
    "distances = torch.norm(repeat_vertices - closest_pts, dim=1)"
   ]
  },
  {
   "cell_type": "code",
   "execution_count": 288,
   "id": "92cb0b17-a53d-470e-9882-1a875398c2f1",
   "metadata": {},
   "outputs": [
    {
     "name": "stdout",
     "output_type": "stream",
     "text": [
      "2.02 ms ± 10.5 µs per loop (mean ± std. dev. of 7 runs, 1,000 loops each)\n"
     ]
    }
   ],
   "source": [
    "%timeit torch.norm(repeat_vertices - closest_pts, dim=1)"
   ]
  },
  {
   "cell_type": "markdown",
   "id": "8ae46c43-7a67-4e84-955e-00bba5192ecd",
   "metadata": {},
   "source": [
    "All together about 36 ms"
   ]
  },
  {
   "cell_type": "markdown",
   "id": "6d2feb37-e5d5-486b-8942-cd577e4cb75f",
   "metadata": {},
   "source": [
    "## Double check a single value"
   ]
  },
  {
   "cell_type": "code",
   "execution_count": 289,
   "id": "4d9a55b6-345d-4cfc-a37c-402e8d316d6c",
   "metadata": {},
   "outputs": [
    {
     "data": {
      "text/plain": [
       "tensor([[0.0000, 0.0305, 0.0610,  ..., 0.4243, 0.3152, 0.4412],\n",
       "        [0.0102, 0.0203, 0.0508,  ..., 0.4146, 0.3050, 0.4321],\n",
       "        [0.0203, 0.0102, 0.0407,  ..., 0.4048, 0.2948, 0.4231],\n",
       "        ...,\n",
       "        [0.8206, 0.8052, 0.7907,  ..., 0.5809, 0.7107, 0.5091],\n",
       "        [0.8259, 0.8102, 0.7955,  ..., 0.5812, 0.7123, 0.5098],\n",
       "        [0.8313, 0.8154, 0.8003,  ..., 0.5816, 0.7141, 0.5107]],\n",
       "       device='cuda:0')"
      ]
     },
     "execution_count": 289,
     "metadata": {},
     "output_type": "execute_result"
    }
   ],
   "source": [
    "distances = distances.view(3205, 1968); distances"
   ]
  },
  {
   "cell_type": "code",
   "execution_count": 267,
   "id": "8a161c43-9847-4baf-bb10-554d29a139ba",
   "metadata": {},
   "outputs": [],
   "source": [
    "p = closest_point_on_triangle(vertices[2].unsqueeze(0), triangles[1].unsqueeze(0))"
   ]
  },
  {
   "cell_type": "code",
   "execution_count": 268,
   "id": "7599be40-658b-4f2e-bd25-1ef2025f8df5",
   "metadata": {},
   "outputs": [],
   "source": [
    "v = vertices[2].unsqueeze(0) - p"
   ]
  },
  {
   "cell_type": "code",
   "execution_count": 269,
   "id": "55b6b8b6-a66f-4b41-a3bd-4df0ecfaabbf",
   "metadata": {},
   "outputs": [],
   "source": [
    "v **= 2"
   ]
  },
  {
   "cell_type": "code",
   "execution_count": 270,
   "id": "88d74070-2a92-403c-a413-d883713d4ed3",
   "metadata": {},
   "outputs": [
    {
     "data": {
      "text/plain": [
       "tensor(0.0102, device='cuda:0')"
      ]
     },
     "execution_count": 270,
     "metadata": {},
     "output_type": "execute_result"
    }
   ],
   "source": [
    "v.sum()"
   ]
  },
  {
   "cell_type": "code",
   "execution_count": 293,
   "id": "9c7f63bf-4c9e-4850-ba01-0e952d2a7164",
   "metadata": {},
   "outputs": [],
   "source": [
    "closest_triangle_ind = torch.argmin(distances, dim=1)"
   ]
  },
  {
   "cell_type": "code",
   "execution_count": 294,
   "id": "d4b84c9d-90d3-4633-90e8-c8abc10b6c4b",
   "metadata": {},
   "outputs": [
    {
     "name": "stdout",
     "output_type": "stream",
     "text": [
      "91.2 µs ± 11.9 µs per loop (mean ± std. dev. of 7 runs, 10,000 loops each)\n"
     ]
    }
   ],
   "source": [
    "%timeit torch.argmin(distances, dim=1)"
   ]
  }
 ],
 "metadata": {
  "kernelspec": {
   "display_name": "Python 3 (ipykernel)",
   "language": "python",
   "name": "python3"
  },
  "language_info": {
   "codemirror_mode": {
    "name": "ipython",
    "version": 3
   },
   "file_extension": ".py",
   "mimetype": "text/x-python",
   "name": "python",
   "nbconvert_exporter": "python",
   "pygments_lexer": "ipython3",
   "version": "3.11.5"
  }
 },
 "nbformat": 4,
 "nbformat_minor": 5
}
