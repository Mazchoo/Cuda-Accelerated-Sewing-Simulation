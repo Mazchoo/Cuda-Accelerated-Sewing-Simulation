{
 "cells": [
  {
   "cell_type": "code",
   "execution_count": 1,
   "id": "050d9dc6-d97e-4400-8355-53c6dc4d0b5b",
   "metadata": {},
   "outputs": [],
   "source": [
    "import numpy as np\n",
    "import pycuda.autoinit\n",
    "import pycuda.driver as cuda\n",
    "from pycuda.compiler import SourceModule"
   ]
  },
  {
   "cell_type": "code",
   "execution_count": 2,
   "id": "6785208d-3c50-4748-a57f-5354d7669333",
   "metadata": {},
   "outputs": [
    {
     "name": "stdout",
     "output_type": "stream",
     "text": [
      "usage: cl [ option... ] filename... [ /link linkoption... ]\n"
     ]
    },
    {
     "name": "stderr",
     "output_type": "stream",
     "text": [
      "Microsoft (R) C/C++ Optimizing Compiler Version 19.43.34810 for x64\n",
      "Copyright (C) Microsoft Corporation.  All rights reserved.\n",
      "\n"
     ]
    }
   ],
   "source": [
    "!cl"
   ]
  },
  {
   "cell_type": "code",
   "execution_count": 8,
   "id": "73420692-3c2e-4abc-9ca9-c71667a35410",
   "metadata": {},
   "outputs": [],
   "source": [
    "def load_numpy(filename: str) -> np.ndarray:\n",
    "    return np.load(f'./numpy/{filename}')"
   ]
  },
  {
   "cell_type": "code",
   "execution_count": 9,
   "id": "b3979619-90c6-4591-aa87-805e90b258b4",
   "metadata": {},
   "outputs": [],
   "source": [
    "vertices = load_numpy('piece_vertices.npy')\n",
    "triangles = load_numpy('triangle_vertices.npy')\n",
    "normals = load_numpy('triangle_normals.npy')"
   ]
  },
  {
   "cell_type": "code",
   "execution_count": 4,
   "id": "de3795a1-f78c-4b9b-89ea-a8fb9647b3db",
   "metadata": {},
   "outputs": [
    {
     "ename": "NameError",
     "evalue": "name 'SourceModule' is not defined",
     "output_type": "error",
     "traceback": [
      "\u001b[1;31m---------------------------------------------------------------------------\u001b[0m",
      "\u001b[1;31mNameError\u001b[0m                                 Traceback (most recent call last)",
      "Cell \u001b[1;32mIn[4], line 1\u001b[0m\n\u001b[1;32m----> 1\u001b[0m mod \u001b[38;5;241m=\u001b[39m SourceModule(\u001b[38;5;124m\"\"\"\u001b[39m\n\u001b[0;32m      2\u001b[0m \u001b[38;5;124m__device__ bool ray_intersects_triangle(float3 orig, float3 dir,\u001b[39m\n\u001b[0;32m      3\u001b[0m \u001b[38;5;124m                                        float3 v0, float3 v1, float3 v2) \u001b[39m\u001b[38;5;124m{\u001b[39m\n\u001b[0;32m      4\u001b[0m \u001b[38;5;124m    const float EPSILON = 1e-6f;\u001b[39m\n\u001b[0;32m      5\u001b[0m \u001b[38;5;124m    float3 edge1 = make_float3(v1.x - v0.x, v1.y - v0.y, v1.z - v0.z);\u001b[39m\n\u001b[0;32m      6\u001b[0m \u001b[38;5;124m    float3 edge2 = make_float3(v2.x - v0.x, v2.y - v0.y, v2.z - v0.z);\u001b[39m\n\u001b[0;32m      7\u001b[0m \u001b[38;5;124m    float3 h = make_float3(\u001b[39m\n\u001b[0;32m      8\u001b[0m \u001b[38;5;124m        dir.y * edge2.z - dir.z * edge2.y,\u001b[39m\n\u001b[0;32m      9\u001b[0m \u001b[38;5;124m        dir.z * edge2.x - dir.x * edge2.z,\u001b[39m\n\u001b[0;32m     10\u001b[0m \u001b[38;5;124m        dir.x * edge2.y - dir.y * edge2.x\u001b[39m\n\u001b[0;32m     11\u001b[0m \u001b[38;5;124m    );\u001b[39m\n\u001b[0;32m     12\u001b[0m \u001b[38;5;124m    float a = edge1.x * h.x + edge1.y * h.y + edge1.z * h.z;\u001b[39m\n\u001b[0;32m     13\u001b[0m \u001b[38;5;124m    if (fabs(a) < EPSILON)\u001b[39m\n\u001b[0;32m     14\u001b[0m \u001b[38;5;124m        return false;\u001b[39m\n\u001b[0;32m     15\u001b[0m \u001b[38;5;124m    float f = 1.0f / a;\u001b[39m\n\u001b[0;32m     16\u001b[0m \u001b[38;5;124m    float3 s = make_float3(orig.x - v0.x, orig.y - v0.y, orig.z - v0.z);\u001b[39m\n\u001b[0;32m     17\u001b[0m \u001b[38;5;124m    float u = f * (s.x * h.x + s.y * h.y + s.z * h.z);\u001b[39m\n\u001b[0;32m     18\u001b[0m \u001b[38;5;124m    if (u < 0.0f || u > 1.0f)\u001b[39m\n\u001b[0;32m     19\u001b[0m \u001b[38;5;124m        return false;\u001b[39m\n\u001b[0;32m     20\u001b[0m \u001b[38;5;124m    float3 q = make_float3(\u001b[39m\n\u001b[0;32m     21\u001b[0m \u001b[38;5;124m        s.y * edge1.z - s.z * edge1.y,\u001b[39m\n\u001b[0;32m     22\u001b[0m \u001b[38;5;124m        s.z * edge1.x - s.x * edge1.z,\u001b[39m\n\u001b[0;32m     23\u001b[0m \u001b[38;5;124m        s.x * edge1.y - s.y * edge1.x\u001b[39m\n\u001b[0;32m     24\u001b[0m \u001b[38;5;124m    );\u001b[39m\n\u001b[0;32m     25\u001b[0m \u001b[38;5;124m    float v = f * (dir.x * q.x + dir.y * q.y + dir.z * q.z);\u001b[39m\n\u001b[0;32m     26\u001b[0m \u001b[38;5;124m    if (v < 0.0f || u + v > 1.0f)\u001b[39m\n\u001b[0;32m     27\u001b[0m \u001b[38;5;124m        return false;\u001b[39m\n\u001b[0;32m     28\u001b[0m \u001b[38;5;124m    float t = f * (edge2.x * q.x + edge2.y * q.y + edge2.z * q.z);\u001b[39m\n\u001b[0;32m     29\u001b[0m \u001b[38;5;124m    return t > EPSILON;\u001b[39m\n\u001b[0;32m     30\u001b[0m \u001b[38;5;124m}\u001b[39m\n\u001b[0;32m     31\u001b[0m \n\u001b[0;32m     32\u001b[0m \u001b[38;5;124m__global__ void point_in_mesh(float *triangles, int num_triangles,\u001b[39m\n\u001b[0;32m     33\u001b[0m \u001b[38;5;124m                              float *points, int num_points,\u001b[39m\n\u001b[0;32m     34\u001b[0m \u001b[38;5;124m                              bool *output_flags) \u001b[39m\u001b[38;5;124m{\u001b[39m\n\u001b[0;32m     35\u001b[0m \u001b[38;5;124m    int pt_idx = blockIdx.x * blockDim.x + threadIdx.x;\u001b[39m\n\u001b[0;32m     36\u001b[0m \u001b[38;5;124m    if (pt_idx >= num_points) return;\u001b[39m\n\u001b[0;32m     37\u001b[0m \n\u001b[0;32m     38\u001b[0m \u001b[38;5;124m    float3 query = make_float3(\u001b[39m\n\u001b[0;32m     39\u001b[0m \u001b[38;5;124m        points[pt_idx * 3 + 0],\u001b[39m\n\u001b[0;32m     40\u001b[0m \u001b[38;5;124m        points[pt_idx * 3 + 1],\u001b[39m\n\u001b[0;32m     41\u001b[0m \u001b[38;5;124m        points[pt_idx * 3 + 2]\u001b[39m\n\u001b[0;32m     42\u001b[0m \u001b[38;5;124m    );\u001b[39m\n\u001b[0;32m     43\u001b[0m \u001b[38;5;124m    float3 ray_dir = make_float3(1.0f, 0.0f, 0.0f); // +X ray\u001b[39m\n\u001b[0;32m     44\u001b[0m \n\u001b[0;32m     45\u001b[0m \u001b[38;5;124m    int hit_count = 0;\u001b[39m\n\u001b[0;32m     46\u001b[0m \n\u001b[0;32m     47\u001b[0m \u001b[38;5;124m    for (int tri_idx = 0; tri_idx < num_triangles; ++tri_idx) \u001b[39m\u001b[38;5;124m{\u001b[39m\n\u001b[0;32m     48\u001b[0m \u001b[38;5;124m        float3 v0 = make_float3(\u001b[39m\n\u001b[0;32m     49\u001b[0m \u001b[38;5;124m            triangles[tri_idx * 9 + 0],\u001b[39m\n\u001b[0;32m     50\u001b[0m \u001b[38;5;124m            triangles[tri_idx * 9 + 1],\u001b[39m\n\u001b[0;32m     51\u001b[0m \u001b[38;5;124m            triangles[tri_idx * 9 + 2]\u001b[39m\n\u001b[0;32m     52\u001b[0m \u001b[38;5;124m        );\u001b[39m\n\u001b[0;32m     53\u001b[0m \u001b[38;5;124m        float3 v1 = make_float3(\u001b[39m\n\u001b[0;32m     54\u001b[0m \u001b[38;5;124m            triangles[tri_idx * 9 + 3],\u001b[39m\n\u001b[0;32m     55\u001b[0m \u001b[38;5;124m            triangles[tri_idx * 9 + 4],\u001b[39m\n\u001b[0;32m     56\u001b[0m \u001b[38;5;124m            triangles[tri_idx * 9 + 5]\u001b[39m\n\u001b[0;32m     57\u001b[0m \u001b[38;5;124m        );\u001b[39m\n\u001b[0;32m     58\u001b[0m \u001b[38;5;124m        float3 v2 = make_float3(\u001b[39m\n\u001b[0;32m     59\u001b[0m \u001b[38;5;124m            triangles[tri_idx * 9 + 6],\u001b[39m\n\u001b[0;32m     60\u001b[0m \u001b[38;5;124m            triangles[tri_idx * 9 + 7],\u001b[39m\n\u001b[0;32m     61\u001b[0m \u001b[38;5;124m            triangles[tri_idx * 9 + 8]\u001b[39m\n\u001b[0;32m     62\u001b[0m \u001b[38;5;124m        );\u001b[39m\n\u001b[0;32m     63\u001b[0m \n\u001b[0;32m     64\u001b[0m \u001b[38;5;124m        if (ray_intersects_triangle(query, ray_dir, v0, v1, v2)) \u001b[39m\u001b[38;5;124m{\u001b[39m\n\u001b[0;32m     65\u001b[0m \u001b[38;5;124m            hit_count++;\u001b[39m\n\u001b[0;32m     66\u001b[0m \u001b[38;5;124m        }\u001b[39m\n\u001b[0;32m     67\u001b[0m \u001b[38;5;124m    }\u001b[39m\n\u001b[0;32m     68\u001b[0m \n\u001b[0;32m     69\u001b[0m \u001b[38;5;124m    output_flags[pt_idx] = (hit_count \u001b[39m\u001b[38;5;124m%\u001b[39m\u001b[38;5;124m 2 == 1);\u001b[39m\n\u001b[0;32m     70\u001b[0m \u001b[38;5;124m}\u001b[39m\n\u001b[0;32m     71\u001b[0m \u001b[38;5;124m\"\"\"\u001b[39m)\n",
      "\u001b[1;31mNameError\u001b[0m: name 'SourceModule' is not defined"
     ]
    }
   ],
   "source": [
    "mod = SourceModule(\"\"\"\n",
    "__device__ bool ray_intersects_triangle(float3 orig, float3 dir,\n",
    "                                        float3 v0, float3 v1, float3 v2) {\n",
    "    const float EPSILON = 1e-6f;\n",
    "    float3 edge1 = make_float3(v1.x - v0.x, v1.y - v0.y, v1.z - v0.z);\n",
    "    float3 edge2 = make_float3(v2.x - v0.x, v2.y - v0.y, v2.z - v0.z);\n",
    "    float3 h = make_float3(\n",
    "        dir.y * edge2.z - dir.z * edge2.y,\n",
    "        dir.z * edge2.x - dir.x * edge2.z,\n",
    "        dir.x * edge2.y - dir.y * edge2.x\n",
    "    );\n",
    "    float a = edge1.x * h.x + edge1.y * h.y + edge1.z * h.z;\n",
    "    if (fabs(a) < EPSILON)\n",
    "        return false;\n",
    "    float f = 1.0f / a;\n",
    "    float3 s = make_float3(orig.x - v0.x, orig.y - v0.y, orig.z - v0.z);\n",
    "    float u = f * (s.x * h.x + s.y * h.y + s.z * h.z);\n",
    "    if (u < 0.0f || u > 1.0f)\n",
    "        return false;\n",
    "    float3 q = make_float3(\n",
    "        s.y * edge1.z - s.z * edge1.y,\n",
    "        s.z * edge1.x - s.x * edge1.z,\n",
    "        s.x * edge1.y - s.y * edge1.x\n",
    "    );\n",
    "    float v = f * (dir.x * q.x + dir.y * q.y + dir.z * q.z);\n",
    "    if (v < 0.0f || u + v > 1.0f)\n",
    "        return false;\n",
    "    float t = f * (edge2.x * q.x + edge2.y * q.y + edge2.z * q.z);\n",
    "    return t > EPSILON;\n",
    "}\n",
    "\n",
    "__global__ void point_in_mesh(float *triangles, int num_triangles,\n",
    "                              float *points, int num_points,\n",
    "                              bool *output_flags) {\n",
    "    int pt_idx = blockIdx.x * blockDim.x + threadIdx.x;\n",
    "    if (pt_idx >= num_points) return;\n",
    "\n",
    "    float3 query = make_float3(\n",
    "        points[pt_idx * 3 + 0],\n",
    "        points[pt_idx * 3 + 1],\n",
    "        points[pt_idx * 3 + 2]\n",
    "    );\n",
    "    float3 ray_dir = make_float3(1.0f, 0.0f, 0.0f); // +X ray\n",
    "\n",
    "    int hit_count = 0;\n",
    "\n",
    "    for (int tri_idx = 0; tri_idx < num_triangles; ++tri_idx) {\n",
    "        float3 v0 = make_float3(\n",
    "            triangles[tri_idx * 9 + 0],\n",
    "            triangles[tri_idx * 9 + 1],\n",
    "            triangles[tri_idx * 9 + 2]\n",
    "        );\n",
    "        float3 v1 = make_float3(\n",
    "            triangles[tri_idx * 9 + 3],\n",
    "            triangles[tri_idx * 9 + 4],\n",
    "            triangles[tri_idx * 9 + 5]\n",
    "        );\n",
    "        float3 v2 = make_float3(\n",
    "            triangles[tri_idx * 9 + 6],\n",
    "            triangles[tri_idx * 9 + 7],\n",
    "            triangles[tri_idx * 9 + 8]\n",
    "        );\n",
    "\n",
    "        if (ray_intersects_triangle(query, ray_dir, v0, v1, v2)) {\n",
    "            hit_count++;\n",
    "        }\n",
    "    }\n",
    "\n",
    "    output_flags[pt_idx] = (hit_count % 2 == 1);\n",
    "}\n",
    "\"\"\")"
   ]
  },
  {
   "cell_type": "code",
   "execution_count": 3,
   "id": "c404bfe2-6746-41cb-b55b-21cad0434002",
   "metadata": {},
   "outputs": [
    {
     "ename": "NameError",
     "evalue": "name 'SourceModule' is not defined",
     "output_type": "error",
     "traceback": [
      "\u001b[1;31m---------------------------------------------------------------------------\u001b[0m",
      "\u001b[1;31mNameError\u001b[0m                                 Traceback (most recent call last)",
      "Cell \u001b[1;32mIn[3], line 1\u001b[0m\n\u001b[1;32m----> 1\u001b[0m mod \u001b[38;5;241m=\u001b[39m SourceModule(kernel_code)\n\u001b[0;32m      2\u001b[0m point_in_mesh \u001b[38;5;241m=\u001b[39m mod\u001b[38;5;241m.\u001b[39mget_function(\u001b[38;5;124m\"\u001b[39m\u001b[38;5;124mpoint_in_mesh\u001b[39m\u001b[38;5;124m\"\u001b[39m)\n",
      "\u001b[1;31mNameError\u001b[0m: name 'SourceModule' is not defined"
     ]
    }
   ],
   "source": [
    "point_in_mesh = mod.get_function(\"point_in_mesh\")"
   ]
  },
  {
   "cell_type": "code",
   "execution_count": 9,
   "id": "256dc819-dbff-45eb-967a-066c6589a4d6",
   "metadata": {},
   "outputs": [],
   "source": [
    "def get_closest_point(points_gpu, query_point_gpu, distances_gpu,\n",
    "                      num_points, points, \n",
    "                      block_size, grid_size,\n",
    "                      min_idx, min_idx_gpu):\n",
    "    find_closest_point(points_gpu, query_point_gpu, distances_gpu, \n",
    "                       num_points, block=(block_size, 1, 1), grid=(grid_size, 1))\n",
    "\n",
    "    # Run the kernel to find the minimum distance index\n",
    "    find_min_distance_index(distances_gpu, min_idx_gpu, num_points, block=(block_size, 1, 1), grid=(1, 1))\n",
    "    \n",
    "    # Copy the result back to host\n",
    "    cuda.memcpy_dtoh(min_idx, min_idx_gpu)\n",
    "    \n",
    "    # Find the closest point\n",
    "    return points[min_idx[0]]"
   ]
  },
  {
   "cell_type": "code",
   "execution_count": 10,
   "id": "eb644d3d-5758-4f9c-8aef-9cf9492798d4",
   "metadata": {},
   "outputs": [
    {
     "name": "stdout",
     "output_type": "stream",
     "text": [
      "The closest point to [0.8656291  0.7443568  0.20227067] is [0.55593413 0.16710657 0.67367786] at index 0\n"
     ]
    }
   ],
   "source": [
    "# Define number of 3D points\n",
    "num_points = np.int32(1024 * 1024)\n",
    "\n",
    "# Allocate memory on GPU\n",
    "points_gpu = cuda.mem_alloc(points.nbytes)\n",
    "query_point_gpu = cuda.mem_alloc(query.nbytes)\n",
    "distances_gpu = cuda.mem_alloc(points.shape[0] * np.float32(0).nbytes)\n",
    "min_idx_gpu = cuda.mem_alloc(np.int32(0).nbytes)\n",
    "\n",
    "# Copy data to GPU\n",
    "cuda.memcpy_htod(points_gpu, points)\n",
    "cuda.memcpy_htod(query_point_gpu, query)\n",
    "\n",
    "# Prepare the kernel functions\n",
    "find_closest_point = mod.get_function(\"find_closest_point\")\n",
    "find_min_distance_index = mod.get_function(\"find_min_distance_index\")\n",
    "\n",
    "# Define block and grid sizes\n",
    "block_size = 1024\n",
    "grid_size = (int(num_points) + block_size - 1) // block_size\n",
    "\n",
    "# Run the kernel to calculate distances\n",
    "find_closest_point(points_gpu, query_point_gpu, distances_gpu, num_points, block=(block_size, 1, 1), grid=(grid_size, 1))\n",
    "\n",
    "# Run the kernel to find the minimum distance index\n",
    "find_min_distance_index(distances_gpu, min_idx_gpu, num_points, block=(block_size, 1, 1), grid=(1, 1))\n",
    "\n",
    "# Copy the result back to host\n",
    "min_idx = np.zeros(1, dtype=np.int32)\n",
    "cuda.memcpy_dtoh(min_idx, min_idx_gpu)\n",
    "\n",
    "# Find the closest point\n",
    "closest_point = points[min_idx[0]]\n",
    "\n",
    "print(f\"The closest point to {query} is {closest_point} at index {min_idx[0]}\")"
   ]
  },
  {
   "cell_type": "code",
   "execution_count": 11,
   "id": "5c5a49ca-8864-4a03-8b2b-d86dba38ca14",
   "metadata": {},
   "outputs": [
    {
     "data": {
      "text/plain": [
       "array([0.55593413, 0.16710657, 0.67367786], dtype=float32)"
      ]
     },
     "execution_count": 11,
     "metadata": {},
     "output_type": "execute_result"
    }
   ],
   "source": [
    "get_closest_point(points_gpu, query_point_gpu, distances_gpu, num_points, points, block_size, grid_size, min_idx, min_idx_gpu)"
   ]
  },
  {
   "cell_type": "code",
   "execution_count": 15,
   "id": "ef9a52a1-b282-4e96-a840-30574a665933",
   "metadata": {},
   "outputs": [
    {
     "name": "stdout",
     "output_type": "stream",
     "text": [
      "269 µs ± 46.3 µs per loop (mean ± std. dev. of 7 runs, 1,000 loops each)\n"
     ]
    }
   ],
   "source": [
    "%timeit get_closest_point(points_gpu, query_point_gpu, distances_gpu, num_points, points, block_size, grid_size, min_idx, min_idx_gpu)"
   ]
  }
 ],
 "metadata": {
  "kernelspec": {
   "display_name": "Python 3 (ipykernel)",
   "language": "python",
   "name": "python3"
  },
  "language_info": {
   "codemirror_mode": {
    "name": "ipython",
    "version": 3
   },
   "file_extension": ".py",
   "mimetype": "text/x-python",
   "name": "python",
   "nbconvert_exporter": "python",
   "pygments_lexer": "ipython3",
   "version": "3.11.5"
  }
 },
 "nbformat": 4,
 "nbformat_minor": 5
}
