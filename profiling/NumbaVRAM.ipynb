{
 "cells": [
  {
   "cell_type": "code",
   "execution_count": 1,
   "id": "822c2def-37f3-46df-aac6-133532f40a38",
   "metadata": {},
   "outputs": [],
   "source": [
    "import numpy as np\n",
    "from numba import cuda, float32, int32"
   ]
  },
  {
   "cell_type": "code",
   "execution_count": 2,
   "id": "b2dea4c0-f1d8-49eb-8f9c-af980e521adb",
   "metadata": {},
   "outputs": [
    {
     "name": "stdout",
     "output_type": "stream",
     "text": [
      "Nearest point: [0.22603026 0.97334635 0.8298668 ]\n"
     ]
    }
   ],
   "source": [
    "# Kernel to compute the squared distances and reduce to find the closest point\n",
    "@cuda.jit\n",
    "def find_nearest_point_kernel(points, query, closest_point, min_distance):\n",
    "    i = cuda.grid(1)\n",
    "\n",
    "    # Define a large number for \"infinity\" for comparison\n",
    "    inf = 1e20\n",
    "\n",
    "    # Each thread calculates the squared Euclidean distance\n",
    "    if i < points.shape[0]:\n",
    "        dx = points[i, 0] - query[0]\n",
    "        dy = points[i, 1] - query[1]\n",
    "        dz = points[i, 2] - query[2]\n",
    "        dist = dx**2 + dy**2 + dz**2\n",
    "        \n",
    "        # Atomic operation to update the closest point and minimum distance\n",
    "        if dist < min_distance[0]:\n",
    "            min_distance[0] = dist\n",
    "            closest_point[0] = i  # Save the index of the closest point\n",
    "\n",
    "def find_nearest_point_gpu(points_device, query_device, closest_point, min_distance):\n",
    "    # Call the kernel to compute the closest point and minimum distance\n",
    "    find_nearest_point_kernel[blocks, threads_per_block](points_device, query_device, closest_point, min_distance)\n",
    "\n",
    "    # Retrieve the index of the closest point from the device\n",
    "    return closest_point.copy_to_host()[0]\n",
    "\n",
    "# Example usage\n",
    "N = 1024**2  # Number of points\n",
    "points_host = np.random.rand(N, 3).astype(np.float32)  # 1 million 3D points\n",
    "points_device = cuda.to_device(points_host)  # Pre-allocate points on the device\n",
    "\n",
    "query_host = np.array([0.1, 0.5, 0.9], dtype=np.float32)  # Query point\n",
    "\n",
    "# Allocate device memory for the closest point and minimum distance\n",
    "closest_point = cuda.device_array(1, dtype=np.int32)  # Use np.int32 for integer array\n",
    "min_distance = cuda.device_array(1, dtype=np.float32)  # Use np.float32 for float array\n",
    "\n",
    "query_device = cuda.to_device(np.array(query_host, dtype=np.float32))\n",
    "\n",
    "# Define grid and block dimensions\n",
    "threads_per_block = 352\n",
    "blocks = (N + threads_per_block - 1) // threads_per_block\n",
    "\n",
    "# Find the closest point on GPU\n",
    "nearest_point = find_nearest_point_gpu(points_device, query_device, closest_point, min_distance)\n",
    "print(\"Nearest point:\", points_host[nearest_point])"
   ]
  },
  {
   "cell_type": "code",
   "execution_count": 3,
   "id": "ff713698-55c0-444f-b139-064fde73a60d",
   "metadata": {},
   "outputs": [
    {
     "name": "stdout",
     "output_type": "stream",
     "text": [
      "693 µs ± 34.2 µs per loop (mean ± std. dev. of 7 runs, 1,000 loops each)\n"
     ]
    }
   ],
   "source": [
    "%timeit points_host[find_nearest_point_gpu(points_device, query_device, closest_point, min_distance)]"
   ]
  }
 ],
 "metadata": {
  "kernelspec": {
   "display_name": "Python 3 (ipykernel)",
   "language": "python",
   "name": "python3"
  },
  "language_info": {
   "codemirror_mode": {
    "name": "ipython",
    "version": 3
   },
   "file_extension": ".py",
   "mimetype": "text/x-python",
   "name": "python",
   "nbconvert_exporter": "python",
   "pygments_lexer": "ipython3",
   "version": "3.11.5"
  }
 },
 "nbformat": 4,
 "nbformat_minor": 5
}
