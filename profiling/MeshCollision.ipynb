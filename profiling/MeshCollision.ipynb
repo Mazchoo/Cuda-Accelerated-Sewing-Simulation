{
 "cells": [
  {
   "cell_type": "code",
   "execution_count": 1,
   "id": "3767782f-789a-4c9c-b5aa-6ba7b3c4c4a9",
   "metadata": {},
   "outputs": [],
   "source": [
    "import sys\n",
    "from pathlib import Path\n",
    "import os"
   ]
  },
  {
   "cell_type": "code",
   "execution_count": 2,
   "id": "ea2fbe37-3f25-4d8c-a54e-912b1f2271ec",
   "metadata": {},
   "outputs": [],
   "source": [
    "project_working_dir = str(Path(sys.path[0]).parent)\n",
    "sys.path += [project_working_dir]\n",
    "os.chdir(project_working_dir)"
   ]
  },
  {
   "cell_type": "code",
   "execution_count": 3,
   "id": "14967076-a859-4cac-a0eb-eeb60883773c",
   "metadata": {},
   "outputs": [],
   "source": [
    "from src.utils.read_obj import parse_obj\n",
    "from src.utils.file_io import read_json\n",
    "from src.simulation.setup.extract_clothing_vertex_data import extract_all_piece_vertices\n",
    "from src.parameters import AVATAR_SCALING"
   ]
  },
  {
   "cell_type": "code",
   "execution_count": 4,
   "id": "a11d5196-b52f-46a0-99aa-c8e3879c926f",
   "metadata": {},
   "outputs": [],
   "source": [
    "avatar_mesh = parse_obj('./assets/BodyMesh.obj', './assets/BodyAnnotations.json')\n",
    "avatar_mesh.scale_vertices(AVATAR_SCALING)\n",
    "\n",
    "clothing_data = read_json('./assets/sewing_shirt.json')\n",
    "all_pieces, sewing = extract_all_piece_vertices(clothing_data, avatar_mesh)"
   ]
  },
  {
   "cell_type": "markdown",
   "id": "60254a7b-598b-4157-b2c6-93a8c4b0ac7b",
   "metadata": {},
   "source": [
    "## Profile cpu version"
   ]
  },
  {
   "cell_type": "code",
   "execution_count": 7,
   "id": "96932721-fd03-4557-a95a-36b4211f197e",
   "metadata": {},
   "outputs": [],
   "source": [
    "trimesh = avatar_mesh.trimesh"
   ]
  },
  {
   "cell_type": "code",
   "execution_count": 6,
   "id": "e49a2cd3-5d4d-4f70-8b9b-e53aee433a24",
   "metadata": {},
   "outputs": [],
   "source": [
    "vertices = all_pieces[\"L-1\"].mesh.vertices_3d"
   ]
  },
  {
   "cell_type": "code",
   "execution_count": 12,
   "id": "614a7fd2-2fe1-4240-8f1d-f83ef9259f30",
   "metadata": {},
   "outputs": [
    {
     "name": "stdout",
     "output_type": "stream",
     "text": [
      "2.19 s ± 394 ms per loop (mean ± std. dev. of 7 runs, 1 loop each)\n"
     ]
    }
   ],
   "source": [
    "%timeit trimesh.contains(vertices)"
   ]
  },
  {
   "cell_type": "code",
   "execution_count": 13,
   "id": "d3a2a484-6b2b-4fb5-8d9e-2bc901046ac4",
   "metadata": {},
   "outputs": [
    {
     "name": "stdout",
     "output_type": "stream",
     "text": [
      "683 ms ± 33 ms per loop (mean ± std. dev. of 7 runs, 1 loop each)\n"
     ]
    }
   ],
   "source": [
    "%timeit trimesh.nearest.on_surface(vertices)"
   ]
  },
  {
   "cell_type": "code",
   "execution_count": 15,
   "id": "ebc43807-c053-4015-ba7b-4d9c304a123f",
   "metadata": {},
   "outputs": [
    {
     "name": "stdout",
     "output_type": "stream",
     "text": [
      "346 µs ± 50 µs per loop (mean ± std. dev. of 7 runs, 1,000 loops each)\n"
     ]
    }
   ],
   "source": [
    "%timeit all_pieces[\"L-1\"].mesh.offset_vertices((0, 0, 0))"
   ]
  }
 ],
 "metadata": {
  "kernelspec": {
   "display_name": "Python 3 (ipykernel)",
   "language": "python",
   "name": "python3"
  },
  "language_info": {
   "codemirror_mode": {
    "name": "ipython",
    "version": 3
   },
   "file_extension": ".py",
   "mimetype": "text/x-python",
   "name": "python",
   "nbconvert_exporter": "python",
   "pygments_lexer": "ipython3",
   "version": "3.11.5"
  }
 },
 "nbformat": 4,
 "nbformat_minor": 5
}
