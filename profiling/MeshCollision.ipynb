{
 "cells": [
  {
   "cell_type": "markdown",
   "id": "7e944852-4258-424c-8a74-ae00be0c70a0",
   "metadata": {},
   "source": [
    "## Package Imports"
   ]
  },
  {
   "cell_type": "code",
   "execution_count": 1,
   "id": "3767782f-789a-4c9c-b5aa-6ba7b3c4c4a9",
   "metadata": {},
   "outputs": [],
   "source": [
    "import sys\n",
    "from pathlib import Path\n",
    "import os\n",
    "import numpy as np"
   ]
  },
  {
   "cell_type": "code",
   "execution_count": 2,
   "id": "ea2fbe37-3f25-4d8c-a54e-912b1f2271ec",
   "metadata": {},
   "outputs": [],
   "source": [
    "project_working_dir = str(Path(sys.path[0]).parent)\n",
    "sys.path += [project_working_dir]\n",
    "os.chdir(project_working_dir)"
   ]
  },
  {
   "cell_type": "markdown",
   "id": "2cf81a9e-c65f-4a89-901d-d812601a5cb9",
   "metadata": {},
   "source": [
    "## Local Imports"
   ]
  },
  {
   "cell_type": "code",
   "execution_count": 3,
   "id": "14967076-a859-4cac-a0eb-eeb60883773c",
   "metadata": {},
   "outputs": [],
   "source": [
    "from src.utils.read_obj import parse_obj\n",
    "from src.utils.file_io import read_json\n",
    "from src.simulation.setup.extract_clothing_vertex_data import extract_all_piece_vertices\n",
    "from src.parameters import AVATAR_SCALING"
   ]
  },
  {
   "cell_type": "code",
   "execution_count": 4,
   "id": "a11d5196-b52f-46a0-99aa-c8e3879c926f",
   "metadata": {},
   "outputs": [],
   "source": [
    "avatar_mesh = parse_obj('./assets/BodyMesh.obj', './assets/BodyAnnotations.json')\n",
    "avatar_mesh.scale_vertices(AVATAR_SCALING)\n",
    "\n",
    "clothing_data = read_json('./assets/sewing_shirt.json')\n",
    "all_pieces, sewing = extract_all_piece_vertices(clothing_data, avatar_mesh)"
   ]
  },
  {
   "cell_type": "markdown",
   "id": "60254a7b-598b-4157-b2c6-93a8c4b0ac7b",
   "metadata": {},
   "source": [
    "## Profile cpu version"
   ]
  },
  {
   "cell_type": "code",
   "execution_count": 5,
   "id": "96932721-fd03-4557-a95a-36b4211f197e",
   "metadata": {},
   "outputs": [],
   "source": [
    "trimesh = avatar_mesh.trimesh"
   ]
  },
  {
   "cell_type": "code",
   "execution_count": 6,
   "id": "e49a2cd3-5d4d-4f70-8b9b-e53aee433a24",
   "metadata": {},
   "outputs": [],
   "source": [
    "vertices = all_pieces[\"L-1\"].mesh.vertices_3d"
   ]
  },
  {
   "cell_type": "code",
   "execution_count": 7,
   "id": "614a7fd2-2fe1-4240-8f1d-f83ef9259f30",
   "metadata": {},
   "outputs": [
    {
     "name": "stdout",
     "output_type": "stream",
     "text": [
      "2.27 s ± 452 ms per loop (mean ± std. dev. of 7 runs, 1 loop each)\n"
     ]
    }
   ],
   "source": [
    "%timeit trimesh.contains(vertices)"
   ]
  },
  {
   "cell_type": "code",
   "execution_count": 8,
   "id": "d3a2a484-6b2b-4fb5-8d9e-2bc901046ac4",
   "metadata": {},
   "outputs": [
    {
     "name": "stdout",
     "output_type": "stream",
     "text": [
      "509 ms ± 19.9 ms per loop (mean ± std. dev. of 7 runs, 1 loop each)\n"
     ]
    }
   ],
   "source": [
    "%timeit trimesh.nearest.on_surface(vertices)"
   ]
  },
  {
   "cell_type": "code",
   "execution_count": 9,
   "id": "7295ee29-5178-47b0-9acb-3aacc744f87d",
   "metadata": {},
   "outputs": [
    {
     "data": {
      "text/plain": [
       "True"
      ]
     },
     "execution_count": 9,
     "metadata": {},
     "output_type": "execute_result"
    }
   ],
   "source": [
    "trimesh.is_watertight"
   ]
  },
  {
   "cell_type": "code",
   "execution_count": 10,
   "id": "e6ad0bda-18e0-4329-96a1-c7a010e95753",
   "metadata": {},
   "outputs": [],
   "source": [
    "trimesh.fix_normals()"
   ]
  },
  {
   "cell_type": "code",
   "execution_count": 14,
   "id": "0e3ee127-9919-40f3-9d1c-c20c7a21163d",
   "metadata": {},
   "outputs": [
    {
     "data": {
      "text/plain": [
       "0.0008763332504599916"
      ]
     },
     "execution_count": 14,
     "metadata": {},
     "output_type": "execute_result"
    }
   ],
   "source": [
    "np.degrees(trimesh.face_adjacency_angles).min()"
   ]
  },
  {
   "cell_type": "code",
   "execution_count": 15,
   "id": "20addef6-6de4-48c8-be64-da0f2f7fcaf2",
   "metadata": {},
   "outputs": [
    {
     "data": {
      "text/plain": [
       "177.68969464371781"
      ]
     },
     "execution_count": 15,
     "metadata": {},
     "output_type": "execute_result"
    }
   ],
   "source": [
    "np.degrees(trimesh.face_adjacency_angles).max()"
   ]
  },
  {
   "cell_type": "markdown",
   "id": "38ffecde-1c95-4d99-bd38-6c7718ca5ddd",
   "metadata": {},
   "source": [
    "## Save numpy vertices"
   ]
  },
  {
   "cell_type": "code",
   "execution_count": 13,
   "id": "db7a7d16-8442-4a14-ac09-4e94e4005a1f",
   "metadata": {},
   "outputs": [],
   "source": [
    "def save_numpy_array(filename: str, arr: np.ndarray):\n",
    "    np.save(f'{project_working_dir}/profiling/numpy/{filename}', arr)"
   ]
  },
  {
   "cell_type": "code",
   "execution_count": 14,
   "id": "5a904ad4-a616-48ed-a79b-521359ed9bdc",
   "metadata": {},
   "outputs": [
    {
     "data": {
      "text/plain": [
       "(3205, 3)"
      ]
     },
     "execution_count": 14,
     "metadata": {},
     "output_type": "execute_result"
    }
   ],
   "source": [
    "vertices.shape"
   ]
  },
  {
   "cell_type": "code",
   "execution_count": 15,
   "id": "545ba926-6c10-4718-837d-a53afbddfaa6",
   "metadata": {},
   "outputs": [],
   "source": [
    "save_numpy_array('piece_vertices.npy', vertices)"
   ]
  },
  {
   "cell_type": "code",
   "execution_count": 16,
   "id": "2b400cf2-1739-45e4-ac5a-143b43f84276",
   "metadata": {},
   "outputs": [
    {
     "data": {
      "text/plain": [
       "0.16700542005420055"
      ]
     },
     "execution_count": 16,
     "metadata": {},
     "output_type": "execute_result"
    }
   ],
   "source": [
    "len(set(trimesh.faces.flatten())) / len(trimesh.faces.flatten())"
   ]
  },
  {
   "cell_type": "code",
   "execution_count": 15,
   "id": "b3148623-e3ec-489b-adf8-7fa22262933b",
   "metadata": {},
   "outputs": [
    {
     "data": {
      "text/plain": [
       "5904"
      ]
     },
     "execution_count": 15,
     "metadata": {},
     "output_type": "execute_result"
    }
   ],
   "source": [
    "len(trimesh.faces.flatten())"
   ]
  },
  {
   "cell_type": "code",
   "execution_count": 18,
   "id": "7acfb67f-9bf5-4d85-93ec-050081621fc4",
   "metadata": {},
   "outputs": [],
   "source": [
    "triangle_vertices = np.array([\n",
    "    [trimesh.vertices[i], trimesh.vertices[j], trimesh.vertices[k]] for i, j, k in trimesh.faces\n",
    "], dtype=np.float32)"
   ]
  },
  {
   "cell_type": "code",
   "execution_count": 19,
   "id": "2d13645c-8032-4524-a72a-db99c372bf80",
   "metadata": {},
   "outputs": [
    {
     "data": {
      "text/plain": [
       "(1968, 3, 3)"
      ]
     },
     "execution_count": 19,
     "metadata": {},
     "output_type": "execute_result"
    }
   ],
   "source": [
    "triangle_vertices.shape"
   ]
  },
  {
   "cell_type": "code",
   "execution_count": 20,
   "id": "5d885985-fbc3-4326-95b9-3fdc01419ca8",
   "metadata": {},
   "outputs": [],
   "source": [
    "save_numpy_array('triangle_vertices.npy', triangle_vertices)"
   ]
  },
  {
   "cell_type": "code",
   "execution_count": 21,
   "id": "5be46b23-3161-4813-ae73-6bc213e006b6",
   "metadata": {},
   "outputs": [],
   "source": [
    "save_numpy_array('triangle_normals.npy', trimesh.face_normals)"
   ]
  },
  {
   "cell_type": "code",
   "execution_count": 22,
   "id": "89c552b2-4e0a-4178-8d55-2a46c1feb98b",
   "metadata": {},
   "outputs": [
    {
     "data": {
      "text/plain": [
       "(1968, 3)"
      ]
     },
     "execution_count": 22,
     "metadata": {},
     "output_type": "execute_result"
    }
   ],
   "source": [
    "trimesh.face_normals.shape"
   ]
  },
  {
   "cell_type": "code",
   "execution_count": 23,
   "id": "089a27b1-a33a-492c-9f4b-3d3be3abaf03",
   "metadata": {},
   "outputs": [],
   "source": [
    "in_shape = trimesh.contains(vertices)"
   ]
  },
  {
   "cell_type": "code",
   "execution_count": 24,
   "id": "958cd656-1571-413d-9cf6-f7ccb354f45a",
   "metadata": {},
   "outputs": [
    {
     "data": {
      "text/plain": [
       "50"
      ]
     },
     "execution_count": 24,
     "metadata": {},
     "output_type": "execute_result"
    }
   ],
   "source": [
    "in_shape.sum()"
   ]
  },
  {
   "cell_type": "code",
   "execution_count": 25,
   "id": "1a3d0f66-fb83-473a-b49b-3a7f7e4562bf",
   "metadata": {},
   "outputs": [
    {
     "data": {
      "text/plain": [
       "array([1680, 1683, 1741, 1798, 2245, 2298, 2299, 2300, 2301, 2302, 2303,\n",
       "       2345, 2346, 2347, 2348, 2349, 2350, 2351, 2352, 2353, 2354, 2355,\n",
       "       2356, 2357, 2358, 2359, 2360, 2361, 2362, 2406, 2407, 2408, 2456,\n",
       "       2457, 2458, 2459, 2498, 2499, 2501, 2549, 2600, 2609, 2651, 2655,\n",
       "       2690, 2701, 2741, 2742, 2793, 2945], dtype=int64)"
      ]
     },
     "execution_count": 25,
     "metadata": {},
     "output_type": "execute_result"
    }
   ],
   "source": [
    "np.where(in_shape)[0]"
   ]
  }
 ],
 "metadata": {
  "kernelspec": {
   "display_name": "Python 3 (ipykernel)",
   "language": "python",
   "name": "python3"
  },
  "language_info": {
   "codemirror_mode": {
    "name": "ipython",
    "version": 3
   },
   "file_extension": ".py",
   "mimetype": "text/x-python",
   "name": "python",
   "nbconvert_exporter": "python",
   "pygments_lexer": "ipython3",
   "version": "3.11.5"
  }
 },
 "nbformat": 4,
 "nbformat_minor": 5
}
