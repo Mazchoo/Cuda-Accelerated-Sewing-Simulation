{
 "cells": [
  {
   "cell_type": "code",
   "execution_count": 1,
   "id": "36d08605-20aa-446a-beca-ebba4183ca15",
   "metadata": {},
   "outputs": [],
   "source": [
    "import numpy as np\n",
    "from numba import cuda, float32, int32"
   ]
  },
  {
   "cell_type": "code",
   "execution_count": 2,
   "id": "1d8b8423-5b26-472b-9496-4b826ae8d843",
   "metadata": {},
   "outputs": [],
   "source": [
    "@cuda.jit\n",
    "def find_nearest_point_shared(points, query, min_idx, min_dist):\n",
    "    shared_min_dist = cuda.shared.array(1024, dtype=float32)\n",
    "    shared_min_idx = cuda.shared.array(1024, dtype=int32)\n",
    "    \n",
    "    tid = cuda.threadIdx.x\n",
    "    i = cuda.grid(1)\n",
    "    n = points.shape[0]\n",
    "\n",
    "    local_dist = float32(1e20)\n",
    "    local_idx = int32(-1)\n",
    "\n",
    "    if i < n:\n",
    "        dx = points[i, 0] - query[0]\n",
    "        dy = points[i, 1] - query[1]\n",
    "        dz = points[i, 2] - query[2]\n",
    "        dist = dx*dx + dy*dy + dz*dz\n",
    "        local_dist = dist\n",
    "        local_idx = i\n",
    "\n",
    "    shared_min_dist[tid] = local_dist\n",
    "    shared_min_idx[tid] = local_idx\n",
    "    cuda.syncthreads()\n",
    "\n",
    "    # Intra-block reduction in shared memory\n",
    "    stride = cuda.blockDim.x // 2\n",
    "    while stride > 0:\n",
    "        if tid < stride:\n",
    "            if shared_min_dist[tid + stride] < shared_min_dist[tid]:\n",
    "                shared_min_dist[tid] = shared_min_dist[tid + stride]\n",
    "                shared_min_idx[tid] = shared_min_idx[tid + stride]\n",
    "        stride //= 2\n",
    "        cuda.syncthreads()\n",
    "\n",
    "    # Write per-block result to global memory\n",
    "    if tid == 0:\n",
    "        block_id = cuda.blockIdx.x\n",
    "        min_dist[block_id] = shared_min_dist[0]\n",
    "        min_idx[block_id] = shared_min_idx[0]\n",
    "\n",
    "def final_reduce(min_dist_d, min_idx_d):\n",
    "    min_dist_h = min_dist_d.copy_to_host()\n",
    "    min_idx_h = min_idx_d.copy_to_host()\n",
    "    best_idx = min_idx_h[np.argmin(min_dist_h)]\n",
    "    return best_idx\n",
    "\n",
    "def find_nearest_point_gpu(points_device, query_device, min_idx, min_distance):\n",
    "    # Call the kernel to compute the closest point and minimum distance\n",
    "    find_nearest_point_shared[blocks, threads_per_block](points_device, query_device, min_idx, min_distance)\n",
    "    best_idx = final_reduce(min_distance, min_idx)\n",
    "\n",
    "    return best_idx"
   ]
  },
  {
   "cell_type": "code",
   "execution_count": 3,
   "id": "ade666a2-83ba-484a-b857-14d667f11af8",
   "metadata": {},
   "outputs": [],
   "source": [
    "N = 1024**2  # Number of points\n",
    "# Define grid and block dimensions\n",
    "threads_per_block = 1024\n",
    "blocks = (N + threads_per_block - 1) // threads_per_block\n",
    "\n",
    "points_host = np.random.rand(N, 3).astype(np.float32)  # 1 million 3D points\n",
    "points_device = cuda.to_device(points_host)  # Pre-allocate points on the device\n",
    "\n",
    "query_host = np.array([0.1, 0.5, 0.9], dtype=np.float32)  # Query point\n",
    "\n",
    "# Allocate device memory for the closest point and minimum distance\n",
    "min_idx = cuda.device_array(blocks, dtype=np.int32)  # Use np.int32 for integer array\n",
    "min_distance = cuda.device_array(blocks, dtype=np.float32)  # Use np.float32 for float array\n",
    "\n",
    "query_device = cuda.to_device(np.array(query_host, dtype=np.float32))"
   ]
  },
  {
   "cell_type": "code",
   "execution_count": 4,
   "id": "23c52411-f52a-4d4d-80e0-f89613649a8a",
   "metadata": {},
   "outputs": [
    {
     "data": {
      "text/plain": [
       "370408"
      ]
     },
     "execution_count": 4,
     "metadata": {},
     "output_type": "execute_result"
    }
   ],
   "source": [
    "find_nearest_point_gpu(points_device, query_device, min_idx, min_distance)"
   ]
  },
  {
   "cell_type": "code",
   "execution_count": 8,
   "id": "3f855abc-ba02-43d7-8d7b-2c27f21c69cd",
   "metadata": {},
   "outputs": [
    {
     "name": "stdout",
     "output_type": "stream",
     "text": [
      "1.36 ms ± 117 µs per loop (mean ± std. dev. of 7 runs, 1,000 loops each)\n"
     ]
    }
   ],
   "source": [
    "%timeit find_nearest_point_gpu(points_device, query_device, min_idx, min_distance)"
   ]
  }
 ],
 "metadata": {
  "kernelspec": {
   "display_name": "Python 3 (ipykernel)",
   "language": "python",
   "name": "python3"
  },
  "language_info": {
   "codemirror_mode": {
    "name": "ipython",
    "version": 3
   },
   "file_extension": ".py",
   "mimetype": "text/x-python",
   "name": "python",
   "nbconvert_exporter": "python",
   "pygments_lexer": "ipython3",
   "version": "3.11.5"
  }
 },
 "nbformat": 4,
 "nbformat_minor": 5
}
