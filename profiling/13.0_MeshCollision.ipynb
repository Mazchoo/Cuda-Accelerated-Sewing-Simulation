{
 "cells": [
  {
   "cell_type": "markdown",
   "id": "7e944852-4258-424c-8a74-ae00be0c70a0",
   "metadata": {},
   "source": [
    "## Package Imports"
   ]
  },
  {
   "cell_type": "code",
   "execution_count": 4,
   "id": "3767782f-789a-4c9c-b5aa-6ba7b3c4c4a9",
   "metadata": {},
   "outputs": [],
   "source": [
    "import sys\n",
    "from pathlib import Path\n",
    "import os\n",
    "import numpy as np\n",
    "from trimesh import Trimesh"
   ]
  },
  {
   "cell_type": "code",
   "execution_count": 5,
   "id": "ea2fbe37-3f25-4d8c-a54e-912b1f2271ec",
   "metadata": {},
   "outputs": [],
   "source": [
    "project_working_dir = str(Path(sys.path[0]).parent)\n",
    "sys.path += [project_working_dir]\n",
    "os.chdir(project_working_dir)"
   ]
  },
  {
   "cell_type": "code",
   "execution_count": 9,
   "id": "c08ce1a6-d54d-4748-b0d6-ca0a25ad7319",
   "metadata": {},
   "outputs": [],
   "source": [
    "from common import save_numpy_array"
   ]
  },
  {
   "cell_type": "markdown",
   "id": "2cf81a9e-c65f-4a89-901d-d812601a5cb9",
   "metadata": {},
   "source": [
    "## Simulation Imports"
   ]
  },
  {
   "cell_type": "code",
   "execution_count": 6,
   "id": "14967076-a859-4cac-a0eb-eeb60883773c",
   "metadata": {},
   "outputs": [],
   "source": [
    "from src.utils.read_obj import parse_obj\n",
    "from src.utils.file_io import read_json\n",
    "from src.simulation.setup.extract_clothing_vertex_data import extract_all_piece_vertices\n",
    "from src.parameters import AVATAR_SCALING"
   ]
  },
  {
   "cell_type": "markdown",
   "id": "3f7e866c-5867-4737-824f-bb85ee83ffc9",
   "metadata": {},
   "source": [
    "## Extract Meshes"
   ]
  },
  {
   "cell_type": "code",
   "execution_count": 7,
   "id": "a11d5196-b52f-46a0-99aa-c8e3879c926f",
   "metadata": {},
   "outputs": [],
   "source": [
    "avatar_mesh = parse_obj('./assets/BodyMesh.obj', './assets/BodyAnnotations.json')\n",
    "avatar_mesh.scale_vertices(AVATAR_SCALING)\n",
    "\n",
    "clothing_data = read_json('./assets/sewing_shirt.json')\n",
    "all_pieces, sewing = extract_all_piece_vertices(clothing_data, avatar_mesh)"
   ]
  },
  {
   "cell_type": "markdown",
   "id": "89dae79b-4e4c-4aac-9e56-e073769d0638",
   "metadata": {},
   "source": [
    "## Collision Detection Algorithm"
   ]
  },
  {
   "cell_type": "code",
   "execution_count": 8,
   "id": "670aa21a-aa32-488f-97f3-bb9c3044125f",
   "metadata": {},
   "outputs": [],
   "source": [
    "def body_collision_adjustment(self, body_trimesh: Trimesh):\n",
    "    \"\"\" Push vertices outside the body mesh \"\"\"\n",
    "    vertices = self.mesh.vertices_3d\n",
    "\n",
    "    is_inside_mesh = body_trimesh.contains(vertices)\n",
    "    if not is_inside_mesh.any():\n",
    "        return\n",
    "\n",
    "    _, distances, triangle_ids = body_trimesh.nearest.on_surface(vertices[is_inside_mesh])\n",
    "    adjustment = body_trimesh.face_normals[triangle_ids] * distances[:, np.newaxis]\n",
    "    self.mesh.offset_vertices(adjustment, mask=is_inside_mesh)"
   ]
  },
  {
   "cell_type": "markdown",
   "id": "fbc1c81b-cc0d-4693-85de-f7105aef9e8e",
   "metadata": {},
   "source": [
    "## Profile cpu version"
   ]
  },
  {
   "cell_type": "markdown",
   "id": "d7f75975-e70f-498a-a98c-cf0156aac026",
   "metadata": {},
   "source": [
    "The collision is handled by a lightweight library that uses some c++ routines and scipy, we can run the most expensive part of doing the simulation."
   ]
  },
  {
   "cell_type": "code",
   "execution_count": 5,
   "id": "96932721-fd03-4557-a95a-36b4211f197e",
   "metadata": {},
   "outputs": [],
   "source": [
    "trimesh = avatar_mesh.trimesh"
   ]
  },
  {
   "cell_type": "code",
   "execution_count": 6,
   "id": "e49a2cd3-5d4d-4f70-8b9b-e53aee433a24",
   "metadata": {},
   "outputs": [],
   "source": [
    "vertices = all_pieces[\"L-1\"].mesh.vertices_3d"
   ]
  },
  {
   "cell_type": "code",
   "execution_count": 7,
   "id": "614a7fd2-2fe1-4240-8f1d-f83ef9259f30",
   "metadata": {},
   "outputs": [
    {
     "name": "stdout",
     "output_type": "stream",
     "text": [
      "2.27 s ± 452 ms per loop (mean ± std. dev. of 7 runs, 1 loop each)\n"
     ]
    }
   ],
   "source": [
    "%timeit trimesh.contains(vertices)"
   ]
  },
  {
   "cell_type": "code",
   "execution_count": 8,
   "id": "d3a2a484-6b2b-4fb5-8d9e-2bc901046ac4",
   "metadata": {},
   "outputs": [
    {
     "name": "stdout",
     "output_type": "stream",
     "text": [
      "509 ms ± 19.9 ms per loop (mean ± std. dev. of 7 runs, 1 loop each)\n"
     ]
    }
   ],
   "source": [
    "%timeit trimesh.nearest.on_surface(vertices)"
   ]
  },
  {
   "cell_type": "markdown",
   "id": "b846a840-ae86-4089-81ed-87d234f49e58",
   "metadata": {},
   "source": [
    "The mesh is watertight (which means no holes) but it does have sharp angles below ninety degrees so it isn't smooth. We do have to check that every point is inside the mesh or not to guarantee reasonable behaviour."
   ]
  },
  {
   "cell_type": "markdown",
   "id": "a066cc8f-1057-41a5-a074-30914598a89f",
   "metadata": {},
   "source": [
    "## Look at properties of the body mesh"
   ]
  },
  {
   "cell_type": "markdown",
   "id": "b0f76f21-2180-46c8-be00-1cd277cc85d9",
   "metadata": {},
   "source": [
    "Mesh is watertight means there are no holes, so there is reliable calculation of being on the inside."
   ]
  },
  {
   "cell_type": "code",
   "execution_count": 9,
   "id": "7295ee29-5178-47b0-9acb-3aacc744f87d",
   "metadata": {},
   "outputs": [
    {
     "data": {
      "text/plain": [
       "True"
      ]
     },
     "execution_count": 9,
     "metadata": {},
     "output_type": "execute_result"
    }
   ],
   "source": [
    "trimesh.is_watertight"
   ]
  },
  {
   "cell_type": "markdown",
   "id": "7cb1eb94-2512-4e14-83d8-eab75f3f15c9",
   "metadata": {},
   "source": [
    "Mesh is not smooth so, we cannot just use the closest point on the surface to tell us if we are inside the mesh or not."
   ]
  },
  {
   "cell_type": "code",
   "execution_count": 14,
   "id": "0e3ee127-9919-40f3-9d1c-c20c7a21163d",
   "metadata": {},
   "outputs": [
    {
     "data": {
      "text/plain": [
       "0.0008763332504599916"
      ]
     },
     "execution_count": 14,
     "metadata": {},
     "output_type": "execute_result"
    }
   ],
   "source": [
    "np.degrees(trimesh.face_adjacency_angles).min()"
   ]
  },
  {
   "cell_type": "code",
   "execution_count": 15,
   "id": "20addef6-6de4-48c8-be64-da0f2f7fcaf2",
   "metadata": {},
   "outputs": [
    {
     "data": {
      "text/plain": [
       "177.68969464371781"
      ]
     },
     "execution_count": 15,
     "metadata": {},
     "output_type": "execute_result"
    }
   ],
   "source": [
    "np.degrees(trimesh.face_adjacency_angles).max()"
   ]
  },
  {
   "cell_type": "markdown",
   "id": "38ffecde-1c95-4d99-bd38-6c7718ca5ddd",
   "metadata": {},
   "source": [
    "## Save numpy vertices"
   ]
  },
  {
   "cell_type": "markdown",
   "id": "04a7977c-6f39-4ff3-add1-1edb1aa3fdf7",
   "metadata": {},
   "source": [
    "Save the vertices for one piece"
   ]
  },
  {
   "cell_type": "code",
   "execution_count": 15,
   "id": "545ba926-6c10-4718-837d-a53afbddfaa6",
   "metadata": {},
   "outputs": [],
   "source": [
    "save_numpy_array('piece_vertices.npy', vertices)"
   ]
  },
  {
   "cell_type": "markdown",
   "id": "1679ad25-4476-428b-a28c-7be7fa59dedd",
   "metadata": {},
   "source": [
    "To get a better layout for parallel access, we cannot refer to the triangles by index and store them as raw values instead. This looses some compression."
   ]
  },
  {
   "cell_type": "code",
   "execution_count": 16,
   "id": "2b400cf2-1739-45e4-ac5a-143b43f84276",
   "metadata": {},
   "outputs": [
    {
     "data": {
      "text/plain": [
       "0.16700542005420055"
      ]
     },
     "execution_count": 16,
     "metadata": {},
     "output_type": "execute_result"
    }
   ],
   "source": [
    "len(set(trimesh.faces.flatten())) / len(trimesh.faces.flatten())"
   ]
  },
  {
   "cell_type": "code",
   "execution_count": 18,
   "id": "7acfb67f-9bf5-4d85-93ec-050081621fc4",
   "metadata": {},
   "outputs": [],
   "source": [
    "triangle_vertices = np.array([\n",
    "    [trimesh.vertices[i], trimesh.vertices[j], trimesh.vertices[k]] for i, j, k in trimesh.faces\n",
    "], dtype=np.float32)"
   ]
  },
  {
   "cell_type": "code",
   "execution_count": 20,
   "id": "5d885985-fbc3-4326-95b9-3fdc01419ca8",
   "metadata": {},
   "outputs": [],
   "source": [
    "save_numpy_array('triangle_vertices.npy', triangle_vertices)"
   ]
  },
  {
   "cell_type": "code",
   "execution_count": 21,
   "id": "5be46b23-3161-4813-ae73-6bc213e006b6",
   "metadata": {},
   "outputs": [],
   "source": [
    "save_numpy_array('triangle_normals.npy', trimesh.face_normals)"
   ]
  },
  {
   "cell_type": "markdown",
   "id": "e7132d91-00d9-4d55-ae9f-ae4196c9d43f",
   "metadata": {},
   "source": [
    "## Show expected result"
   ]
  },
  {
   "cell_type": "markdown",
   "id": "779da7e3-af9b-4c08-9597-dd0e224259b4",
   "metadata": {},
   "source": [
    "The current state of the mesh has some points very close the surface and are just inside."
   ]
  },
  {
   "cell_type": "code",
   "execution_count": 23,
   "id": "089a27b1-a33a-492c-9f4b-3d3be3abaf03",
   "metadata": {},
   "outputs": [],
   "source": [
    "in_shape = trimesh.contains(vertices)"
   ]
  },
  {
   "cell_type": "code",
   "execution_count": 24,
   "id": "958cd656-1571-413d-9cf6-f7ccb354f45a",
   "metadata": {},
   "outputs": [
    {
     "data": {
      "text/plain": [
       "50"
      ]
     },
     "execution_count": 24,
     "metadata": {},
     "output_type": "execute_result"
    }
   ],
   "source": [
    "in_shape.sum()"
   ]
  },
  {
   "cell_type": "code",
   "execution_count": 25,
   "id": "1a3d0f66-fb83-473a-b49b-3a7f7e4562bf",
   "metadata": {},
   "outputs": [
    {
     "data": {
      "text/plain": [
       "array([1680, 1683, 1741, 1798, 2245, 2298, 2299, 2300, 2301, 2302, 2303,\n",
       "       2345, 2346, 2347, 2348, 2349, 2350, 2351, 2352, 2353, 2354, 2355,\n",
       "       2356, 2357, 2358, 2359, 2360, 2361, 2362, 2406, 2407, 2408, 2456,\n",
       "       2457, 2458, 2459, 2498, 2499, 2501, 2549, 2600, 2609, 2651, 2655,\n",
       "       2690, 2701, 2741, 2742, 2793, 2945], dtype=int64)"
      ]
     },
     "execution_count": 25,
     "metadata": {},
     "output_type": "execute_result"
    }
   ],
   "source": [
    "np.where(in_shape)[0]"
   ]
  }
 ],
 "metadata": {
  "kernelspec": {
   "display_name": "Python 3 (ipykernel)",
   "language": "python",
   "name": "python3"
  },
  "language_info": {
   "codemirror_mode": {
    "name": "ipython",
    "version": 3
   },
   "file_extension": ".py",
   "mimetype": "text/x-python",
   "name": "python",
   "nbconvert_exporter": "python",
   "pygments_lexer": "ipython3",
   "version": "3.11.5"
  }
 },
 "nbformat": 4,
 "nbformat_minor": 5
}
