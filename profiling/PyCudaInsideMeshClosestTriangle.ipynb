{
 "cells": [
  {
   "cell_type": "code",
   "execution_count": 166,
   "id": "050d9dc6-d97e-4400-8355-53c6dc4d0b5b",
   "metadata": {},
   "outputs": [],
   "source": [
    "import numpy as np\n",
    "import pycuda.autoinit\n",
    "import pycuda.driver as cuda\n",
    "from pycuda.compiler import SourceModule"
   ]
  },
  {
   "cell_type": "code",
   "execution_count": 167,
   "id": "6785208d-3c50-4748-a57f-5354d7669333",
   "metadata": {},
   "outputs": [
    {
     "name": "stdout",
     "output_type": "stream",
     "text": [
      "usage: cl [ option... ] filename... [ /link linkoption... ]\n"
     ]
    },
    {
     "name": "stderr",
     "output_type": "stream",
     "text": [
      "Microsoft (R) C/C++ Optimizing Compiler Version 19.43.34810 for x64\n",
      "Copyright (C) Microsoft Corporation.  All rights reserved.\n",
      "\n"
     ]
    }
   ],
   "source": [
    "!cl"
   ]
  },
  {
   "cell_type": "code",
   "execution_count": 168,
   "id": "55cfbeca-e46c-4a12-b452-8811d2172f2c",
   "metadata": {},
   "outputs": [],
   "source": [
    "def load_numpy(filename: str) -> np.ndarray:\n",
    "    return np.load(f'./numpy/{filename}')"
   ]
  },
  {
   "cell_type": "code",
   "execution_count": 169,
   "id": "b3979619-90c6-4591-aa87-805e90b258b4",
   "metadata": {},
   "outputs": [],
   "source": [
    "vertices = load_numpy('piece_vertices.npy')\n",
    "triangles = load_numpy('triangle_vertices.npy')\n",
    "normals = load_numpy('triangle_normals.npy')"
   ]
  },
  {
   "cell_type": "code",
   "execution_count": 204,
   "id": "de3795a1-f78c-4b9b-89ea-a8fb9647b3db",
   "metadata": {},
   "outputs": [],
   "source": [
    "mod = SourceModule(\"\"\"\n",
    "__device__ float3 cross_product(float3 a, float3 b) {\n",
    "    return make_float3(\n",
    "        a.y * b.z - a.z * b.y,\n",
    "        a.z * b.x - a.x * b.z,\n",
    "        a.x * b.y - a.y * b.x\n",
    "    );\n",
    "}\n",
    "\n",
    "__device__ float dot_product(float3 a, float3 b) {\n",
    "    return a.x * b.x + a.y * b.y + a.z * b.z;\n",
    "}\n",
    "\n",
    "__device__ float3 subtract(float3 a, float3 b) {\n",
    "    return make_float3(a.x - b.x, a.y - b.y, a.z - b.z);\n",
    "}\n",
    "\n",
    "__device__ int ray_intersects_triangle(float3 orig, float3 dir,\n",
    "                                        float3 v0, float3 v1, float3 v2) {\n",
    "    const float EPSILON = 1e-7f;\n",
    "    float3 b;\n",
    "    float v;\n",
    "    float3 edge1 = subtract(v1, v0);\n",
    "    float3 edge2 = subtract(v2, v0);\n",
    "\n",
    "    float3 a = cross_product(dir, edge2);\n",
    "    float det = dot_product(edge1, a);\n",
    "    if (fabsf(det) < EPSILON)\n",
    "        return 0;\n",
    "\n",
    "    float3 c = subtract(orig, v0);\n",
    "    float u = dot_product(a, c);\n",
    "    if (det > EPSILON) {\n",
    "        if (u < 0 || u > det)\n",
    "            return 0;\n",
    "\n",
    "        b = cross_product(c, edge1);\n",
    "        v = dot_product(b, dir);\n",
    "        if (v < 0 || u + v > det)\n",
    "            return 0;\n",
    "    } else {\n",
    "        if (u > 0 || u < det)\n",
    "            return 0;\n",
    "\n",
    "        b = cross_product(c, edge1);\n",
    "        v = dot_product(b, dir);\n",
    "        if (v > 0 || u + v < det)\n",
    "            return 0;\n",
    "    }\n",
    "\n",
    "    float inv_det = 1.0f / det;\n",
    "    float t = inv_det * dot_product(edge2, b);\n",
    "\n",
    "    if (t < EPSILON || t > 1 - EPSILON)\n",
    "        return 0;\n",
    "\n",
    "    return 1;\n",
    "}\n",
    "\n",
    "__global__ void point_in_mesh(float *triangles, int num_triangles,\n",
    "                              float *points, int num_points,\n",
    "                              bool *output_flags) {\n",
    "    int pt_idx = blockIdx.x * blockDim.x + threadIdx.x;\n",
    "    if (pt_idx >= num_points) return;\n",
    "\n",
    "    float3 query = make_float3(\n",
    "        points[pt_idx * 3 + 0],\n",
    "        points[pt_idx * 3 + 1],\n",
    "        points[pt_idx * 3 + 2]\n",
    "    );\n",
    "    float3 ray_dir = make_float3(1.0f, 1.0f, 1.0f);\n",
    "\n",
    "    int hit_count = 0;\n",
    "\n",
    "    for (int tri_idx = 0; tri_idx < num_triangles; ++tri_idx) {\n",
    "        float3 v0 = make_float3(\n",
    "            triangles[tri_idx * 9 + 0],\n",
    "            triangles[tri_idx * 9 + 1],\n",
    "            triangles[tri_idx * 9 + 2]\n",
    "        );\n",
    "        float3 v1 = make_float3(\n",
    "            triangles[tri_idx * 9 + 3],\n",
    "            triangles[tri_idx * 9 + 4],\n",
    "            triangles[tri_idx * 9 + 5]\n",
    "        );\n",
    "        float3 v2 = make_float3(\n",
    "            triangles[tri_idx * 9 + 6],\n",
    "            triangles[tri_idx * 9 + 7],\n",
    "            triangles[tri_idx * 9 + 8]\n",
    "        );\n",
    "\n",
    "        hit_count += ray_intersects_triangle(query, ray_dir, v0, v1, v2);\n",
    "    }\n",
    "\n",
    "    output_flags[pt_idx] = (hit_count % 2) == 1;\n",
    "}\n",
    "\"\"\")"
   ]
  },
  {
   "cell_type": "code",
   "execution_count": 205,
   "id": "1ddf532a-c359-4fe6-9fbb-71ce09478754",
   "metadata": {},
   "outputs": [],
   "source": [
    "point_in_mesh = mod.get_function(\"point_in_mesh\")"
   ]
  },
  {
   "cell_type": "code",
   "execution_count": 206,
   "id": "4d31faaf-f60a-49f9-9422-4a7ef1bd7043",
   "metadata": {},
   "outputs": [],
   "source": [
    "nr_triangles = np.int32(len(triangles))\n",
    "nr_vertices = np.int32(len(vertices))"
   ]
  },
  {
   "cell_type": "code",
   "execution_count": 207,
   "id": "eb0b569d-b74b-47a6-b314-43a5a23f0cfb",
   "metadata": {},
   "outputs": [],
   "source": [
    "assert vertices.flatten().flags['C_CONTIGUOUS']\n",
    "assert triangles.flatten().flags['C_CONTIGUOUS']"
   ]
  },
  {
   "cell_type": "code",
   "execution_count": 208,
   "id": "067c5832-7029-4582-92a9-418abd270098",
   "metadata": {},
   "outputs": [],
   "source": [
    "triangles_gpu = cuda.mem_alloc(triangles.nbytes)\n",
    "vertices_gpu = cuda.mem_alloc(vertices.nbytes)\n",
    "output_cpu = np.empty(len(vertices), dtype=np.bool_)\n",
    "output_gpu = cuda.mem_alloc(output_cpu.nbytes)"
   ]
  },
  {
   "cell_type": "code",
   "execution_count": 209,
   "id": "d914a3ad-bdf4-4cc7-8a85-aa3a3be6ed66",
   "metadata": {},
   "outputs": [],
   "source": [
    "cuda.memcpy_htod(triangles_gpu, triangles.flatten())\n",
    "cuda.memcpy_htod(vertices_gpu, vertices.flatten())"
   ]
  },
  {
   "cell_type": "code",
   "execution_count": 210,
   "id": "47ebc64f-b38b-4005-848d-dbec376a967f",
   "metadata": {},
   "outputs": [],
   "source": [
    "threads_per_block = 64\n",
    "blocks = (len(vertices) + threads_per_block - 1) // threads_per_block"
   ]
  },
  {
   "cell_type": "code",
   "execution_count": 211,
   "id": "5b26f91d-4551-44d3-86bf-096fa14d4fe9",
   "metadata": {},
   "outputs": [],
   "source": [
    "def get_points_in_mesh():\n",
    "    point_in_mesh(triangles_gpu, nr_triangles,\n",
    "              vertices_gpu, nr_vertices,\n",
    "              output_gpu,\n",
    "              block=(threads_per_block, 1, 1), grid=(blocks, 1, 1))\n",
    "    cuda.memcpy_dtoh(output_cpu, output_gpu)"
   ]
  },
  {
   "cell_type": "code",
   "execution_count": 212,
   "id": "eb644d3d-5758-4f9c-8aef-9cf9492798d4",
   "metadata": {},
   "outputs": [
    {
     "name": "stdout",
     "output_type": "stream",
     "text": [
      "588 µs ± 40.6 µs per loop (mean ± std. dev. of 7 runs, 1,000 loops each)\n"
     ]
    }
   ],
   "source": [
    "%timeit get_points_in_mesh()"
   ]
  },
  {
   "cell_type": "code",
   "execution_count": 213,
   "id": "5c5a49ca-8864-4a03-8b2b-d86dba38ca14",
   "metadata": {},
   "outputs": [],
   "source": [
    "get_points_in_mesh()"
   ]
  },
  {
   "cell_type": "code",
   "execution_count": 214,
   "id": "ef9a52a1-b282-4e96-a840-30574a665933",
   "metadata": {},
   "outputs": [
    {
     "data": {
      "text/plain": [
       "50"
      ]
     },
     "execution_count": 214,
     "metadata": {},
     "output_type": "execute_result"
    }
   ],
   "source": [
    "output_cpu.sum()"
   ]
  },
  {
   "cell_type": "code",
   "execution_count": 215,
   "id": "a0faadd4-1c1e-498f-9e2b-522f07dfa854",
   "metadata": {},
   "outputs": [
    {
     "data": {
      "text/plain": [
       "(array([1680, 1683, 1741, 1798, 2245, 2298, 2299, 2300, 2301, 2302, 2303,\n",
       "        2345, 2346, 2347, 2348, 2349, 2350, 2351, 2352, 2353, 2354, 2355,\n",
       "        2356, 2357, 2358, 2359, 2360, 2361, 2362, 2406, 2407, 2408, 2456,\n",
       "        2457, 2458, 2459, 2498, 2499, 2501, 2549, 2600, 2609, 2651, 2655,\n",
       "        2690, 2701, 2741, 2742, 2793, 2945], dtype=int64),)"
      ]
     },
     "execution_count": 215,
     "metadata": {},
     "output_type": "execute_result"
    }
   ],
   "source": [
    "np.where(output_cpu)"
   ]
  }
 ],
 "metadata": {
  "kernelspec": {
   "display_name": "Python 3 (ipykernel)",
   "language": "python",
   "name": "python3"
  },
  "language_info": {
   "codemirror_mode": {
    "name": "ipython",
    "version": 3
   },
   "file_extension": ".py",
   "mimetype": "text/x-python",
   "name": "python",
   "nbconvert_exporter": "python",
   "pygments_lexer": "ipython3",
   "version": "3.11.5"
  }
 },
 "nbformat": 4,
 "nbformat_minor": 5
}
